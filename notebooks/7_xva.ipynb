{
 "cells": [
  {
   "cell_type": "markdown",
   "metadata": {},
   "source": [
    "![Logo dell'Università XYZ](img/logo.jpg)"
   ]
  },
  {
   "cell_type": "markdown",
   "metadata": {},
   "source": [
    "# Advanced Financial Modeling Course\n",
    "\n",
    "## Introduction\n",
    "\n",
    "This notebook is part of the teaching material of the Advanced Financial Modeling course! In this series of Jupyter notebooks, we will cover various topics related to financial modeling, including fundamental concepts, practical applications, and hands-on exercises.\n",
    "\n",
    "### Notebooks Overview\n",
    "\n",
    "1. [Notebook 1: Curve Building](notebooks/notebook1.ipynb)\n",
    "2. [Notebook 2: AAD-Greeks](notebooks/notebook2.ipynb)\n",
    "3. [Notebook 3: Swap AAD Sensitivities](notebooks/notebook3.ipynb)\n",
    "3. [Notebook 4: Simulation of Extended Short-Rate Models](notebooks/notebook3.ipynb)\n",
    "4. [Notebook 5: Model Calibration](notebooks/notebook4.ipynb)\n",
    "5. [Notebook 6: SABR stochastic volatility](notebooks/notebook5.ipynb)\n",
    "5. [Notebook 7: xVA--CCR simulation](notebooks/notebook5.ipynb)\n",
    "\n",
    "\n",
    "## Notebook 7: xVA--CCR simulation \n",
    "\n",
    "In this notebook, we'll explore techniques for simulating xVA (Valuation Adjustments) with a specific focus on Credit Valuation Adjustment (CVA) and Counterparty Credit Risk (CCR). We'll provide a practical example tailored to the EUR market context.\n",
    "\n",
    "### Topics Covered\n",
    "\n",
    "- Importing market data and trade details for xVA calculation.\n",
    "- Defining simulation inputs, including market scenarios and time grid.\n",
    "- Generating exposure paths using a short-rate model for interest rate derivatives.\n",
    "- Aggregating simulation results to compute xVA metrics."
   ]
  },
  {
   "cell_type": "code",
   "execution_count": 1,
   "metadata": {},
   "outputs": [],
   "source": [
    "import QuantLib as ql\n",
    "import numpy as np\n",
    "import pandas as pd\n",
    "from datetime import datetime\n",
    "import matplotlib.pyplot as plt"
   ]
  },
  {
   "cell_type": "markdown",
   "metadata": {},
   "source": [
    "## market import"
   ]
  },
  {
   "cell_type": "code",
   "execution_count": 2,
   "metadata": {},
   "outputs": [],
   "source": [
    "def get_estr(Market_DFs):\n",
    "    df = Market_DFs[Market_DFs['Property'].str.contains(\"IR.EUR-ESTR-ON.DF\")][['Property', 'Label']]\n",
    "    date_format = '%d-%b-%Y'\n",
    "    dates_QuantLib = []\n",
    "    for i in range(len(df['Property'].values)):\n",
    "        str_temp = df['Property'].values[i][18:29]\n",
    "        datetime_obj = datetime.strptime(str_temp, date_format)\n",
    "        dates_QuantLib.append(ql.Date.from_date(datetime_obj))\n",
    "\n",
    "    DFs = df['Label'].values\n",
    "\n",
    "    yieldTermStructure = ql.DiscountCurve(dates_QuantLib, DFs, ql.Actual360(), ql.TARGET())\n",
    "    yieldTermStructure.enableExtrapolation()\n",
    "    return yieldTermStructure\n",
    "\n",
    "#################################### EUR6M\n",
    "def get_eur6m(Market_DFs):\n",
    "    df = Market_DFs[Market_DFs['Property'].str.contains(\"IR.EUR-EURIBOR-6M.DF\")][['Property', 'Label']]\n",
    "    date_format = '%d-%b-%Y'\n",
    "    dates_str = []\n",
    "    dates_datetime = []\n",
    "    dates_QuantLib = []\n",
    "    for i in range(len(df['Property'].values)):\n",
    "        str_temp = df['Property'].values[i][21:32]\n",
    "        datetime_obj = datetime.strptime(str_temp, date_format)\n",
    "        dates_QuantLib.append(ql.Date.from_date(datetime_obj))\n",
    "\n",
    "    DFs = df['Label'].values\n",
    "\n",
    "    yieldTermStructure = ql.DiscountCurve(dates_QuantLib, DFs, ql.Actual360(), ql.TARGET())\n",
    "    yieldTermStructure.enableExtrapolation()\n",
    "    return yieldTermStructure\n"
   ]
  },
  {
   "cell_type": "code",
   "execution_count": 3,
   "metadata": {},
   "outputs": [],
   "source": [
    "market_data = pd.read_csv('data/Market_2023_09_29_DFs.csv', \n",
    "                            skiprows= 2,\n",
    "                            on_bad_lines='skip')\n",
    "\n",
    "############### market ###############  \n",
    "marketCurve = get_estr(market_data)\n",
    "forecastingCurve_t0 = get_eur6m(market_data)\n",
    "forecastingCurve = ql.RelinkableYieldTermStructureHandle(forecastingCurve_t0)\n",
    "index_eur6m = ql.Euribor6M(forecastingCurve)\n",
    "\n",
    "calendar = ql.TARGET()\n",
    "evaluation_date = marketCurve.referenceDate()\n",
    "ql.Settings.instance().evaluationDate = evaluation_date\n",
    "settlement_date = calendar.advance(evaluation_date, ql.Period('2D'))"
   ]
  },
  {
   "cell_type": "markdown",
   "metadata": {},
   "source": [
    "## portfolio import"
   ]
  },
  {
   "cell_type": "code",
   "execution_count": 4,
   "metadata": {},
   "outputs": [],
   "source": [
    "def custom_swap(index):\n",
    "    ## ID 0-17092454\n",
    "    swapType = ql.VanillaSwap.Receiver\n",
    "    custom_schedule = ql.MakeSchedule(ql.Date(31,12,2015), ql.Date(31,12,2040), ql.Period('6M'))\n",
    "    fixed_rate = [0.04156]*(len(custom_schedule)-1)\n",
    "    notional = [143857602,142099704,140995554,139343227,138170625,136487409,135100610,133235348,131633135,130088055,\n",
    "     128443001,126527961,124478813,122046073,119540895,117334856,115325682,113682288,112374057,110400222,108996590,\n",
    "     107427609,106277787,104934949,103826978,102318265,101011839,99241108,97427949,95062460,92643968,89488286,86306759,\n",
    "     82654668,79233393,75249260,71491885,67239725,63147273,58562602,54101515,49235670,44484930,39276217,34122360,28587822,\n",
    "     23186787,17327243,11581997,5627771]\n",
    "\n",
    "    fixedDayCount = ql.Actual360()\n",
    "    floatDayCount = ql.Actual360()\n",
    "\n",
    "    factor = [1.] *(len(custom_schedule)-1)\n",
    "    margin = [0.] *(len(custom_schedule)-1)\n",
    "\n",
    "    nonstandardSwap = ql.NonstandardSwap(swapType,\n",
    "                                         notional, notional,\n",
    "                                        custom_schedule, fixed_rate, fixedDayCount,\n",
    "                                        custom_schedule, index, \n",
    "                                         factor, margin, floatDayCount)\n",
    "    return nonstandardSwap"
   ]
  },
  {
   "cell_type": "code",
   "execution_count": 5,
   "metadata": {},
   "outputs": [],
   "source": [
    "############### trade ############### \n",
    "custom_trade = custom_swap(index_eur6m)\n",
    "firstIndexFixing  = 0.04"
   ]
  },
  {
   "cell_type": "markdown",
   "metadata": {},
   "source": [
    "## static simulation data"
   ]
  },
  {
   "cell_type": "code",
   "execution_count": 6,
   "metadata": {},
   "outputs": [],
   "source": [
    "# class for hosting simulation grid (dates, times)\n",
    "class Grid:\n",
    "    def __init__(self, startDate, endDate, tenor):\n",
    "        # create date schedule, ignore conventions and calendars\n",
    "        self.schedule = ql.Schedule(startDate, endDate, tenor, ql.NullCalendar(), \n",
    "            ql.Unadjusted, ql.Unadjusted, ql.DateGeneration.Forward, False)\n",
    "        self.dayCounter = ql.Actual365Fixed()\n",
    "        self.tenor = tenor\n",
    "    def GetDates(self):\n",
    "        # get list of scheduled dates\n",
    "        dates = []\n",
    "        [dates.append(self.schedule[i]) for i in range(self.GetSize())]\n",
    "        return dates            \n",
    "    def GetTimes(self):\n",
    "        # get list of scheduled times\n",
    "        times = []\n",
    "        [times.append(self.dayCounter.yearFraction(self.schedule[0], self.schedule[i])) \n",
    "            for i in range(self.GetSize())]\n",
    "        return times\n",
    "    def GetMaturity(self):\n",
    "        # get maturity in time units\n",
    "        return self.dayCounter.yearFraction(self.schedule[0], self.schedule[self.GetSteps()])\n",
    "    def GetSteps(self):\n",
    "        # get number of steps in schedule\n",
    "        return self.GetSize() - 1    \n",
    "    def GetSize(self):\n",
    "        # get total number of items in schedule\n",
    "        return len(self.schedule)    \n",
    "    def GetTimeGrid(self):\n",
    "        # get QuantLib TimeGrid object, constructed by using list of scheduled times\n",
    "        return ql.TimeGrid(self.GetTimes(), self.GetSize())\n",
    "    def GetDt(self):\n",
    "        # get constant time step\n",
    "        return self.GetMaturity() / self.GetSteps()\n",
    "    def GetTenor(self):\n",
    "        # get grid tenor\n",
    "        return self.tenor"
   ]
  },
  {
   "cell_type": "code",
   "execution_count": 7,
   "metadata": {},
   "outputs": [],
   "source": [
    "############### simulation ############### \n",
    "simulationEndDate = evaluation_date + ql.Period(\"20Y\")\n",
    "gridStepPeriod = ql.Period(3, ql.Months)\n",
    "ql.Settings.instance().evaluationDate = evaluation_date\n",
    "grid = Grid(evaluation_date, simulationEndDate, gridStepPeriod)\n",
    "times = grid.GetTimes()\n",
    "dates = grid.GetDates()\n",
    "times = grid.GetTimes()\n",
    "dates = grid.GetDates()"
   ]
  },
  {
   "cell_type": "markdown",
   "metadata": {},
   "source": [
    "## simulation"
   ]
  },
  {
   "cell_type": "code",
   "execution_count": 8,
   "metadata": {},
   "outputs": [],
   "source": [
    "def GeneratePaths(process, timeGrid, Npaths):\n",
    "    \n",
    "    timestep_len= len(timeGrid[1:])\n",
    "    dimension = process.factors()\n",
    "    gen_paths = np.zeros((dimension, timestep_len+1, Npaths))\n",
    "\n",
    "    rng = ql.UniformRandomSequenceGenerator(dimension * timestep_len, ql.UniformRandomGenerator())\n",
    "    sequenceGenerator = ql.GaussianRandomSequenceGenerator(rng)\n",
    "    pathGenerator = ql.GaussianMultiPathGenerator(process, list(timeGrid), sequenceGenerator, False)\n",
    "\n",
    "    # paths[0] contiene il primo fattore simulato, paths[1] contiene il secondo, se esiste (es. vola)\n",
    "    paths = [[] for i in range(dimension)]\n",
    "    for i in range(Npaths):\n",
    "        samplePath = pathGenerator.next()\n",
    "        values = samplePath.value() \n",
    "\n",
    "        for j in range(dimension):\n",
    "            gen_paths[j, :, i] = values[0]\n",
    "    return gen_paths[0,:,:].T\n",
    "\n",
    "\n",
    "def CalculateExposures_HW(a, sigma, rateTermStructure, forecastingCurve, index, latestIndexFixing, transaction, grid, nPaths):\n",
    "    times = np.array(grid.GetTimes())\n",
    "    dates = np.array(grid.GetDates())\n",
    "\n",
    "    # request Hull-White 1-factor process and calibrated model parameters\n",
    "    # generate paths for short rate\n",
    "    process = ql.HullWhiteProcess(ql.YieldTermStructureHandle(rateTermStructure), a, sigma)\n",
    "    model = ql.HullWhite(ql.YieldTermStructureHandle(rateTermStructure), a, sigma)\n",
    "\n",
    "    paths = GeneratePaths(process, times, nPaths)\n",
    "\n",
    "    # request transaction floating leg fixings dates\n",
    "    scheduleDates = np.array(list(transaction.floatingSchedule()))\n",
    "    transactionFixingDates = np.array([index.fixingDate(scheduleDates[i]) for i in range(scheduleDates.shape[0])])\n",
    "    transactionFixingRates = np.zeros(shape = (transactionFixingDates.shape[0]))\n",
    "\n",
    "    # create fixing dates, request simulated fixings\n",
    "    # correction for the first observed fixing\n",
    "    simulatedFixingDates = np.array(dates) - ql.Period(index.fixingDays(), ql.Days)\n",
    "    simulatedFixingRates = np.mean(paths[:], axis = 0)\n",
    "    simulatedFixingRates[0] = latestIndexFixing\n",
    "\n",
    "    # create fixings lookup table\n",
    "    fixingsLookupTable = {}\n",
    "    for i in range(simulatedFixingDates.shape[0]):\n",
    "        fixingsLookupTable[simulatedFixingDates[i]] = simulatedFixingRates[i]\n",
    "\n",
    "    # add transaction fixing rates for a given date from fixings lookup table\n",
    "    for i in range(transactionFixingDates.shape[0]):\n",
    "        if transactionFixingDates[i] in fixingsLookupTable:\n",
    "            transactionFixingRates[i] = fixingsLookupTable[transactionFixingDates[i]]\n",
    "        else:\n",
    "            # find the nearest fixing from lookup table\n",
    "            transactionFixingRates[i] = \\\n",
    "            fixingsLookupTable.get(transactionFixingDates[i], \\\n",
    "            fixingsLookupTable[min(fixingsLookupTable.keys(), \\\n",
    "            key = lambda d: abs(d - transactionFixingDates[i]))])\n",
    "\n",
    "    # add required transaction fixing dates and rates to floating leg index\n",
    "    index.addFixings(transactionFixingDates, transactionFixingRates, True)\n",
    "\n",
    "    # create containers for simulated curves and exposures\n",
    "    curves = np.zeros(shape = (nPaths, grid.GetSize()), dtype = ql.DiscountCurve)\n",
    "    exposures = np.zeros(shape = (nPaths, grid.GetSize()), dtype = float)\n",
    "    # set the first curve to be current spot market curve\n",
    "    curves[:, 0] = rateTermStructure\n",
    "\n",
    "    # loop through time steps\n",
    "    for t in range(1, grid.GetSteps()):\n",
    "        # loop through all paths        \n",
    "        for s in range(nPaths):\n",
    "            curveDate = dates[t]\n",
    "            rt = paths[s, t]\n",
    "\n",
    "            curveDates = [curveDate]\n",
    "            curveDates += [curveDate + ql.Period(i, ql.Days) for i in range(1, 5)]\n",
    "            curveDates += [curveDate + ql.Period(i, ql.Weeks) for i in range(1, 3)]\n",
    "            curveDates += [curveDate + ql.Period(i, ql.Months) for i in range(1, 12)]\n",
    "            curveDates += [curveDate + ql.Period(i, ql.Years) for i in range(1, 15)]\n",
    "            curveDates += [curveDate + ql.Period(i, ql.Years) for i in [20,25,30,40]]\n",
    "            curveTaus = [ql.ActualActual().yearFraction(curveDate, d) for d in curveDates]\n",
    "\n",
    "            zeros = np.ones(len(curveDates))\n",
    "            for k in range(1, len(curveDates)):\n",
    "                zeros[k] = model.discountBond(times[t], times[t]+ curveTaus[k], rt)\n",
    "\n",
    "            # create a new curve from simulated zero-coupon bond prices\n",
    "            curves[s, t] = ql.DiscountCurve(curveDates, zeros, ql.Actual360(), ql.TARGET())\n",
    "            curves[s, t].enableExtrapolation()\n",
    "\n",
    "    # link transaction and pricing engine\n",
    "    discountingCurve = ql.RelinkableYieldTermStructureHandle()\n",
    "    swapEngine = ql.DiscountingSwapEngine(discountingCurve)\n",
    "    transaction.setPricingEngine(swapEngine)\n",
    "\n",
    "    # loop through grid time steps\n",
    "    for t in range(grid.GetSteps()):\n",
    "        # move forward in time along the grid\n",
    "        ql.Settings.instance().evaluationDate = dates[t]\n",
    "        # calculate pv for transaction\n",
    "        # link discounting and forecasting curves to a simulated curve\n",
    "        for s in range(nPaths):\n",
    "            curve = curves[s][t]\n",
    "            discountingCurve.linkTo(curve)\n",
    "            forecastingCurve.linkTo(curve)\n",
    "            # save pv to exposure matrix\n",
    "            exposures[s][t] = transaction.NPV()   \n",
    "    return exposures\n",
    "\n",
    "\n",
    "def xvaAggregations(exposures, grid, DTS_ctpy, DTS_own, recoveryRate):\n",
    "    ###### AGGREGATIONS\n",
    "    # calculate expected positive and negative exposures\n",
    "    positiveExposures = exposures.copy()\n",
    "    positiveExposures[positiveExposures < 0.0] = 0.0\n",
    "    EPE = np.mean(positiveExposures, axis = 0)\n",
    "\n",
    "    negativeExposures = exposures.copy()\n",
    "    negativeExposures[negativeExposures > 0.0] = 0.0\n",
    "    ENE = np.mean(negativeExposures, axis = 0)\n",
    "\n",
    "\n",
    "    # calculations for selected XVA metrics from simulated exposures\n",
    "    cvaTerms = 0.0\n",
    "    dvaTerms = 0.0\n",
    "    for i in range(grid.GetSteps()):\n",
    "        df = marketCurve.discount(times[i + 1])\n",
    "        dPD_ctpy = DTS_ctpy.defaultProbability(times[i + 1]) - DTS_ctpy.defaultProbability(times[i])\n",
    "        dPD_own = DTS_own.defaultProbability(times[i + 1]) - DTS_own.defaultProbability(times[i])\n",
    "        cvaTerms += df * 0.5 * (EPE[i + 1] + EPE[i]) * dPD_ctpy\n",
    "        dvaTerms += df * 0.5 * (ENE[i + 1] + ENE[i]) * dPD_own\n",
    "\n",
    "    CVA = (1.0 - recoveryRate) * cvaTerms\n",
    "    DVA = (1.0 - recoveryRate) * dvaTerms\n",
    "    return CVA, DVA, EPE, ENE\n"
   ]
  },
  {
   "cell_type": "code",
   "execution_count": 9,
   "metadata": {},
   "outputs": [],
   "source": [
    "a = 0.142184283416318\n",
    "sigma = 0.008135596903654983\n",
    "nPaths = 2048\n",
    "exposures = CalculateExposures_HW(a, sigma, marketCurve, forecastingCurve, index_eur6m,\n",
    "                                  firstIndexFixing, custom_trade, grid, nPaths)"
   ]
  },
  {
   "cell_type": "code",
   "execution_count": 10,
   "metadata": {},
   "outputs": [],
   "source": [
    "pd_dates =  [evaluation_date + ql.Period(i, ql.Years) for i in range(11)]\n",
    "pdcurve = [0.02 * i for i in range(11)] # pd curve \n",
    "\n",
    "DTS_ctpy = ql.HazardRateCurve(pd_dates,pdcurve,ql.Actual365Fixed())\n",
    "DTS_own = ql.HazardRateCurve(pd_dates,pdcurve,ql.Actual365Fixed())\n",
    "DTS_ctpy.enableExtrapolation()\n",
    "DTS_own.enableExtrapolation()"
   ]
  },
  {
   "cell_type": "code",
   "execution_count": 11,
   "metadata": {},
   "outputs": [
    {
     "name": "stdout",
     "output_type": "stream",
     "text": [
      "PV = 10164195.0\n",
      "Pre-margin uCVA = 2236037.0\n",
      "Pre-margin uDVA = -85527.0\n"
     ]
    }
   ],
   "source": [
    "recoveryRate = 0.4\n",
    "CVA, DVA, EPE, ENE = xvaAggregations(exposures, grid, DTS_ctpy, DTS_own, recoveryRate)\n",
    "\n",
    "DTS_ctpy.enableExtrapolation()\n",
    "DTS_own.enableExtrapolation()\n",
    "\n",
    "# print PV and XVA results\n",
    "print('PV = ' + str(round(exposures[0][0], 0)))\n",
    "print('Pre-margin uCVA = ' + str(round(CVA, 0)))\n",
    "print('Pre-margin uDVA = ' + str(round(DVA, 0)))"
   ]
  },
  {
   "cell_type": "code",
   "execution_count": 12,
   "metadata": {},
   "outputs": [
    {
     "data": {
      "image/png": "[encoded data removed]",
      "text/plain": [
       "<Figure size 1000x500 with 1 Axes>"
      ]
     },
     "metadata": {},
     "output_type": "display_data"
    }
   ],
   "source": [
    "plt.rcParams['figure.figsize'] = [10, 5]\n",
    "plt.plot(times, EPE.T, label = \"EPE\")\n",
    "plt.plot(times, ENE.T, label = \"ENE\")\n",
    "plt.title('Swap Exposure')\n",
    "plt.legend()\n",
    "plt.grid()\n",
    "plt.show()"
   ]
  },
  {
   "cell_type": "code",
   "execution_count": null,
   "metadata": {},
   "outputs": [],
   "source": []
  }
 ],
 "metadata": {
  "kernelspec": {
   "display_name": "Python 3",
   "language": "python",
   "name": "python3"
  },
  "language_info": {
   "codemirror_mode": {
    "name": "ipython",
    "version": 3
   },
   "file_extension": ".py",
   "mimetype": "text/x-python",
   "name": "python",
   "nbconvert_exporter": "python",
   "pygments_lexer": "ipython3",
   "version": "3.10.7"
  }
 },
 "nbformat": 4,
 "nbformat_minor": 2
}
