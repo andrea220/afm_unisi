{
 "cells": [
  {
   "cell_type": "markdown",
   "metadata": {},
   "source": [
    "![Logo dell'Università XYZ](img/logo.jpg)"
   ]
  },
  {
   "cell_type": "markdown",
   "metadata": {},
   "source": [
    "# Advanced Financial Modeling Course\n",
    "\n",
    "## Introduction\n",
    "\n",
    "This notebook is part of the teaching material of the Advanced Financial Modeling course! In this series of Jupyter notebooks, we will cover various topics related to financial modeling, including fundamental concepts, practical applications, and hands-on exercises.\n",
    "\n",
    "### Notebooks Overview\n",
    "\n",
    "1. [Notebook 1: Curve Building](notebooks/notebook1.ipynb)\n",
    "2. [Notebook 2: AAD-Greeks](notebooks/notebook2.ipynb)\n",
    "3. [Notebook 3: Swap AAD Sensitivities](notebooks/notebook3.ipynb)\n",
    "3. [Notebook 4: Simulation of Extended Short-Rate Models](notebooks/notebook3.ipynb)\n",
    "4. [Notebook 5: Model Calibration](notebooks/notebook4.ipynb)\n",
    "5. [Notebook 6: SABR stochastic volatility](notebooks/notebook5.ipynb)\n",
    "5. [Notebook 7: xVA--CCR simulation](notebooks/notebook5.ipynb)\n",
    "\n",
    "\n",
    "## Notebook 5: Model Calibration \n",
    "\n",
    "This notebook delves into the critical process of calibrating a short-rate model to market volatilities. We'll cover fundamental concepts and techniques essential for achieving accurate model calibration, with a practical example focused on the EUR market.\n",
    "\n",
    "### Topics Covered\n",
    "\n",
    "- Introduction to model calibration and its importance in financial modeling.\n",
    "- Overview of short-rate models commonly used in interest rate modeling.\n",
    "- Understanding market volatilities and their role in model calibration.\n",
    "- Techniques for parameter estimation and optimization in model calibration.\n",
    "- Real-world example: Calibrating a short-rate model to market data for the EUR market.\n",
    "\n",
    "\n"
   ]
  },
  {
   "cell_type": "markdown",
   "metadata": {},
   "source": [
    "## References\n",
    "- Brigo, D., & Mercurio, F. (2006). Interest rate models-theory and practice: with smile, inflation and credit (Vol. 2). Berlin: Springer."
   ]
  },
  {
   "cell_type": "markdown",
   "metadata": {},
   "source": [
    "## Import Libraries"
   ]
  },
  {
   "cell_type": "code",
   "execution_count": 3,
   "metadata": {},
   "outputs": [],
   "source": [
    "import numpy as np\n",
    "import pandas as pd\n",
    "import matplotlib.pyplot as plt\n",
    "import QuantLib as ql\n",
    "import datetime\n",
    "from util import tools\n",
    "# from collections import namedtuple\n",
    "import xlwings as xw\n",
    "\n",
    "import plotly.graph_objects as go"
   ]
  },
  {
   "cell_type": "markdown",
   "metadata": {},
   "source": [
    "## Import Curve and Volatilities \n"
   ]
  },
  {
   "cell_type": "code",
   "execution_count": 7,
   "metadata": {},
   "outputs": [],
   "source": [
    "wb = xw.Book('data/data.xlsx')\n",
    "curve_sheet = wb.sheets[\"curve\"]\n",
    "vol_sheet = wb.sheets[\"vols\"]\n",
    "\n",
    "today = ql.Date(2,3,2021)#ql.Date.from_date(datetime.datetime.now()) \n",
    "calendar = ql.TARGET()\n",
    "ql.Settings.instance().setEvaluationDate(today)\n",
    "spot_date = calendar.advance(today, ql.Period('2d'))\n",
    "daycount = ql.Actual365Fixed()\n",
    "\n",
    "eur6m_data = curve_sheet.range(\"A1:B34\").options(pd.DataFrame).value\n",
    "eur6m_dates = list(map(lambda x: ql.Date.from_date(x), eur6m_data.index))\n",
    "eur6m_discount_curve = ql.DiscountCurve(eur6m_dates, eur6m_data['DF'].values,\n",
    "                                        daycount, calendar)\n",
    "yieldTermStructure = eur6m_discount_curve\n",
    "yieldTermStructure.enableExtrapolation()\n",
    "handleYieldTermStructure = ql.RelinkableYieldTermStructureHandle(yieldTermStructure)\n",
    "t0_curve = ql.YieldTermStructureHandle(yieldTermStructure)\n",
    "index = ql.Euribor6M(handleYieldTermStructure)\n",
    "daycounter = yieldTermStructure.dayCounter()\n",
    "eur6m_bpvols_data = vol_sheet.range('A1:N20').options(pd.DataFrame).value"
   ]
  },
  {
   "cell_type": "code",
   "execution_count": 8,
   "metadata": {},
   "outputs": [
    {
     "data": {
      "text/html": [
       "<div>\n",
       "<style scoped>\n",
       "    .dataframe tbody tr th:only-of-type {\n",
       "        vertical-align: middle;\n",
       "    }\n",
       "\n",
       "    .dataframe tbody tr th {\n",
       "        vertical-align: top;\n",
       "    }\n",
       "\n",
       "    .dataframe thead th {\n",
       "        text-align: right;\n",
       "    }\n",
       "</style>\n",
       "<table border=\"1\" class=\"dataframe\">\n",
       "  <thead>\n",
       "    <tr style=\"text-align: right;\">\n",
       "      <th></th>\n",
       "      <th>1y</th>\n",
       "      <th>2y</th>\n",
       "      <th>3y</th>\n",
       "      <th>4y</th>\n",
       "      <th>5y</th>\n",
       "      <th>6y</th>\n",
       "      <th>7y</th>\n",
       "      <th>8y</th>\n",
       "      <th>9y</th>\n",
       "      <th>10y</th>\n",
       "      <th>15y</th>\n",
       "      <th>20y</th>\n",
       "      <th>30y</th>\n",
       "    </tr>\n",
       "    <tr>\n",
       "      <th>Oswp Vols</th>\n",
       "      <th></th>\n",
       "      <th></th>\n",
       "      <th></th>\n",
       "      <th></th>\n",
       "      <th></th>\n",
       "      <th></th>\n",
       "      <th></th>\n",
       "      <th></th>\n",
       "      <th></th>\n",
       "      <th></th>\n",
       "      <th></th>\n",
       "      <th></th>\n",
       "      <th></th>\n",
       "    </tr>\n",
       "  </thead>\n",
       "  <tbody>\n",
       "    <tr>\n",
       "      <th>1m</th>\n",
       "      <td>17.5</td>\n",
       "      <td>18.5</td>\n",
       "      <td>26.1</td>\n",
       "      <td>33.6</td>\n",
       "      <td>42.0</td>\n",
       "      <td>44.4</td>\n",
       "      <td>47.2</td>\n",
       "      <td>49.0</td>\n",
       "      <td>50.8</td>\n",
       "      <td>52.1</td>\n",
       "      <td>57.5</td>\n",
       "      <td>61.6</td>\n",
       "      <td>65.4</td>\n",
       "    </tr>\n",
       "    <tr>\n",
       "      <th>2m</th>\n",
       "      <td>17.7</td>\n",
       "      <td>18.6</td>\n",
       "      <td>24.8</td>\n",
       "      <td>31.4</td>\n",
       "      <td>38.7</td>\n",
       "      <td>41.3</td>\n",
       "      <td>44.0</td>\n",
       "      <td>46.1</td>\n",
       "      <td>48.1</td>\n",
       "      <td>49.3</td>\n",
       "      <td>54.5</td>\n",
       "      <td>58.0</td>\n",
       "      <td>61.0</td>\n",
       "    </tr>\n",
       "    <tr>\n",
       "      <th>3m</th>\n",
       "      <td>17.2</td>\n",
       "      <td>18.2</td>\n",
       "      <td>24.4</td>\n",
       "      <td>31.1</td>\n",
       "      <td>37.7</td>\n",
       "      <td>40.7</td>\n",
       "      <td>43.4</td>\n",
       "      <td>45.5</td>\n",
       "      <td>47.3</td>\n",
       "      <td>48.6</td>\n",
       "      <td>53.3</td>\n",
       "      <td>56.8</td>\n",
       "      <td>59.3</td>\n",
       "    </tr>\n",
       "    <tr>\n",
       "      <th>6m</th>\n",
       "      <td>18.9</td>\n",
       "      <td>20.8</td>\n",
       "      <td>26.1</td>\n",
       "      <td>31.8</td>\n",
       "      <td>37.0</td>\n",
       "      <td>39.6</td>\n",
       "      <td>41.9</td>\n",
       "      <td>44.0</td>\n",
       "      <td>45.7</td>\n",
       "      <td>47.3</td>\n",
       "      <td>51.7</td>\n",
       "      <td>54.5</td>\n",
       "      <td>56.5</td>\n",
       "    </tr>\n",
       "    <tr>\n",
       "      <th>9m</th>\n",
       "      <td>19.9</td>\n",
       "      <td>22.3</td>\n",
       "      <td>27.2</td>\n",
       "      <td>32.6</td>\n",
       "      <td>37.3</td>\n",
       "      <td>40.0</td>\n",
       "      <td>42.4</td>\n",
       "      <td>44.2</td>\n",
       "      <td>46.0</td>\n",
       "      <td>47.3</td>\n",
       "      <td>51.6</td>\n",
       "      <td>54.2</td>\n",
       "      <td>55.9</td>\n",
       "    </tr>\n",
       "    <tr>\n",
       "      <th>1y</th>\n",
       "      <td>21.2</td>\n",
       "      <td>23.6</td>\n",
       "      <td>28.2</td>\n",
       "      <td>33.0</td>\n",
       "      <td>37.7</td>\n",
       "      <td>40.7</td>\n",
       "      <td>42.8</td>\n",
       "      <td>44.7</td>\n",
       "      <td>46.4</td>\n",
       "      <td>47.8</td>\n",
       "      <td>51.6</td>\n",
       "      <td>53.8</td>\n",
       "      <td>55.6</td>\n",
       "    </tr>\n",
       "    <tr>\n",
       "      <th>18m</th>\n",
       "      <td>23.4</td>\n",
       "      <td>26.5</td>\n",
       "      <td>31.0</td>\n",
       "      <td>35.2</td>\n",
       "      <td>39.8</td>\n",
       "      <td>42.4</td>\n",
       "      <td>44.3</td>\n",
       "      <td>46.1</td>\n",
       "      <td>47.7</td>\n",
       "      <td>49.0</td>\n",
       "      <td>52.2</td>\n",
       "      <td>54.4</td>\n",
       "      <td>55.9</td>\n",
       "    </tr>\n",
       "    <tr>\n",
       "      <th>2y</th>\n",
       "      <td>26.7</td>\n",
       "      <td>30.8</td>\n",
       "      <td>35.1</td>\n",
       "      <td>38.3</td>\n",
       "      <td>42.0</td>\n",
       "      <td>44.0</td>\n",
       "      <td>46.0</td>\n",
       "      <td>47.6</td>\n",
       "      <td>49.0</td>\n",
       "      <td>50.3</td>\n",
       "      <td>52.8</td>\n",
       "      <td>54.7</td>\n",
       "      <td>55.9</td>\n",
       "    </tr>\n",
       "    <tr>\n",
       "      <th>3y</th>\n",
       "      <td>35.0</td>\n",
       "      <td>38.4</td>\n",
       "      <td>41.2</td>\n",
       "      <td>43.6</td>\n",
       "      <td>46.0</td>\n",
       "      <td>47.7</td>\n",
       "      <td>49.2</td>\n",
       "      <td>50.3</td>\n",
       "      <td>51.3</td>\n",
       "      <td>52.1</td>\n",
       "      <td>53.6</td>\n",
       "      <td>54.9</td>\n",
       "      <td>55.5</td>\n",
       "    </tr>\n",
       "    <tr>\n",
       "      <th>4y</th>\n",
       "      <td>41.3</td>\n",
       "      <td>44.1</td>\n",
       "      <td>45.8</td>\n",
       "      <td>47.2</td>\n",
       "      <td>48.5</td>\n",
       "      <td>49.6</td>\n",
       "      <td>50.7</td>\n",
       "      <td>51.5</td>\n",
       "      <td>52.5</td>\n",
       "      <td>53.1</td>\n",
       "      <td>54.0</td>\n",
       "      <td>54.7</td>\n",
       "      <td>54.7</td>\n",
       "    </tr>\n",
       "    <tr>\n",
       "      <th>5y</th>\n",
       "      <td>45.2</td>\n",
       "      <td>47.4</td>\n",
       "      <td>48.6</td>\n",
       "      <td>49.5</td>\n",
       "      <td>50.5</td>\n",
       "      <td>51.3</td>\n",
       "      <td>51.9</td>\n",
       "      <td>52.6</td>\n",
       "      <td>53.2</td>\n",
       "      <td>53.7</td>\n",
       "      <td>54.2</td>\n",
       "      <td>54.4</td>\n",
       "      <td>54.2</td>\n",
       "    </tr>\n",
       "    <tr>\n",
       "      <th>6y</th>\n",
       "      <td>48.5</td>\n",
       "      <td>50.0</td>\n",
       "      <td>50.5</td>\n",
       "      <td>51.3</td>\n",
       "      <td>51.8</td>\n",
       "      <td>52.4</td>\n",
       "      <td>52.8</td>\n",
       "      <td>53.3</td>\n",
       "      <td>53.6</td>\n",
       "      <td>53.8</td>\n",
       "      <td>53.5</td>\n",
       "      <td>53.7</td>\n",
       "      <td>53.2</td>\n",
       "    </tr>\n",
       "    <tr>\n",
       "      <th>7y</th>\n",
       "      <td>50.9</td>\n",
       "      <td>52.1</td>\n",
       "      <td>52.4</td>\n",
       "      <td>52.9</td>\n",
       "      <td>53.1</td>\n",
       "      <td>53.3</td>\n",
       "      <td>53.6</td>\n",
       "      <td>53.6</td>\n",
       "      <td>53.9</td>\n",
       "      <td>54.1</td>\n",
       "      <td>53.5</td>\n",
       "      <td>53.3</td>\n",
       "      <td>52.8</td>\n",
       "    </tr>\n",
       "    <tr>\n",
       "      <th>10y</th>\n",
       "      <td>54.1</td>\n",
       "      <td>54.6</td>\n",
       "      <td>54.5</td>\n",
       "      <td>54.3</td>\n",
       "      <td>54.1</td>\n",
       "      <td>54.0</td>\n",
       "      <td>54.0</td>\n",
       "      <td>53.7</td>\n",
       "      <td>53.7</td>\n",
       "      <td>53.9</td>\n",
       "      <td>52.5</td>\n",
       "      <td>51.7</td>\n",
       "      <td>50.4</td>\n",
       "    </tr>\n",
       "    <tr>\n",
       "      <th>12y</th>\n",
       "      <td>54.5</td>\n",
       "      <td>54.7</td>\n",
       "      <td>54.3</td>\n",
       "      <td>54.0</td>\n",
       "      <td>53.6</td>\n",
       "      <td>53.6</td>\n",
       "      <td>53.5</td>\n",
       "      <td>53.4</td>\n",
       "      <td>53.0</td>\n",
       "      <td>53.1</td>\n",
       "      <td>51.4</td>\n",
       "      <td>50.4</td>\n",
       "      <td>48.7</td>\n",
       "    </tr>\n",
       "    <tr>\n",
       "      <th>15y</th>\n",
       "      <td>53.7</td>\n",
       "      <td>53.8</td>\n",
       "      <td>53.6</td>\n",
       "      <td>53.5</td>\n",
       "      <td>53.4</td>\n",
       "      <td>53.1</td>\n",
       "      <td>52.9</td>\n",
       "      <td>52.5</td>\n",
       "      <td>52.4</td>\n",
       "      <td>52.3</td>\n",
       "      <td>50.4</td>\n",
       "      <td>48.9</td>\n",
       "      <td>46.8</td>\n",
       "    </tr>\n",
       "    <tr>\n",
       "      <th>20y</th>\n",
       "      <td>52.7</td>\n",
       "      <td>52.7</td>\n",
       "      <td>52.7</td>\n",
       "      <td>52.5</td>\n",
       "      <td>52.5</td>\n",
       "      <td>52.3</td>\n",
       "      <td>51.7</td>\n",
       "      <td>51.3</td>\n",
       "      <td>50.9</td>\n",
       "      <td>50.5</td>\n",
       "      <td>48.2</td>\n",
       "      <td>46.4</td>\n",
       "      <td>43.7</td>\n",
       "    </tr>\n",
       "    <tr>\n",
       "      <th>25y</th>\n",
       "      <td>51.3</td>\n",
       "      <td>51.4</td>\n",
       "      <td>51.5</td>\n",
       "      <td>51.4</td>\n",
       "      <td>51.3</td>\n",
       "      <td>50.7</td>\n",
       "      <td>50.2</td>\n",
       "      <td>49.4</td>\n",
       "      <td>49.0</td>\n",
       "      <td>48.6</td>\n",
       "      <td>46.2</td>\n",
       "      <td>44.0</td>\n",
       "      <td>40.8</td>\n",
       "    </tr>\n",
       "    <tr>\n",
       "      <th>30y</th>\n",
       "      <td>50.0</td>\n",
       "      <td>50.1</td>\n",
       "      <td>50.3</td>\n",
       "      <td>50.4</td>\n",
       "      <td>50.5</td>\n",
       "      <td>49.8</td>\n",
       "      <td>48.9</td>\n",
       "      <td>48.0</td>\n",
       "      <td>47.1</td>\n",
       "      <td>46.7</td>\n",
       "      <td>43.8</td>\n",
       "      <td>41.7</td>\n",
       "      <td>38.3</td>\n",
       "    </tr>\n",
       "  </tbody>\n",
       "</table>\n",
       "</div>"
      ],
      "text/plain": [
       "             1y    2y    3y    4y    5y    6y    7y    8y    9y   10y   15y  \\\n",
       "Oswp Vols                                                                     \n",
       "1m         17.5  18.5  26.1  33.6  42.0  44.4  47.2  49.0  50.8  52.1  57.5   \n",
       "2m         17.7  18.6  24.8  31.4  38.7  41.3  44.0  46.1  48.1  49.3  54.5   \n",
       "3m         17.2  18.2  24.4  31.1  37.7  40.7  43.4  45.5  47.3  48.6  53.3   \n",
       "6m         18.9  20.8  26.1  31.8  37.0  39.6  41.9  44.0  45.7  47.3  51.7   \n",
       "9m         19.9  22.3  27.2  32.6  37.3  40.0  42.4  44.2  46.0  47.3  51.6   \n",
       "1y         21.2  23.6  28.2  33.0  37.7  40.7  42.8  44.7  46.4  47.8  51.6   \n",
       "18m        23.4  26.5  31.0  35.2  39.8  42.4  44.3  46.1  47.7  49.0  52.2   \n",
       "2y         26.7  30.8  35.1  38.3  42.0  44.0  46.0  47.6  49.0  50.3  52.8   \n",
       "3y         35.0  38.4  41.2  43.6  46.0  47.7  49.2  50.3  51.3  52.1  53.6   \n",
       "4y         41.3  44.1  45.8  47.2  48.5  49.6  50.7  51.5  52.5  53.1  54.0   \n",
       "5y         45.2  47.4  48.6  49.5  50.5  51.3  51.9  52.6  53.2  53.7  54.2   \n",
       "6y         48.5  50.0  50.5  51.3  51.8  52.4  52.8  53.3  53.6  53.8  53.5   \n",
       "7y         50.9  52.1  52.4  52.9  53.1  53.3  53.6  53.6  53.9  54.1  53.5   \n",
       "10y        54.1  54.6  54.5  54.3  54.1  54.0  54.0  53.7  53.7  53.9  52.5   \n",
       "12y        54.5  54.7  54.3  54.0  53.6  53.6  53.5  53.4  53.0  53.1  51.4   \n",
       "15y        53.7  53.8  53.6  53.5  53.4  53.1  52.9  52.5  52.4  52.3  50.4   \n",
       "20y        52.7  52.7  52.7  52.5  52.5  52.3  51.7  51.3  50.9  50.5  48.2   \n",
       "25y        51.3  51.4  51.5  51.4  51.3  50.7  50.2  49.4  49.0  48.6  46.2   \n",
       "30y        50.0  50.1  50.3  50.4  50.5  49.8  48.9  48.0  47.1  46.7  43.8   \n",
       "\n",
       "            20y   30y  \n",
       "Oswp Vols              \n",
       "1m         61.6  65.4  \n",
       "2m         58.0  61.0  \n",
       "3m         56.8  59.3  \n",
       "6m         54.5  56.5  \n",
       "9m         54.2  55.9  \n",
       "1y         53.8  55.6  \n",
       "18m        54.4  55.9  \n",
       "2y         54.7  55.9  \n",
       "3y         54.9  55.5  \n",
       "4y         54.7  54.7  \n",
       "5y         54.4  54.2  \n",
       "6y         53.7  53.2  \n",
       "7y         53.3  52.8  \n",
       "10y        51.7  50.4  \n",
       "12y        50.4  48.7  \n",
       "15y        48.9  46.8  \n",
       "20y        46.4  43.7  \n",
       "25y        44.0  40.8  \n",
       "30y        41.7  38.3  "
      ]
     },
     "execution_count": 8,
     "metadata": {},
     "output_type": "execute_result"
    }
   ],
   "source": [
    "eur6m_bpvols_data"
   ]
  },
  {
   "cell_type": "markdown",
   "metadata": {},
   "source": [
    "## GSR Time-Dependent  Volatility -- Calibration"
   ]
  },
  {
   "cell_type": "code",
   "execution_count": 9,
   "metadata": {},
   "outputs": [
    {
     "name": "stdout",
     "output_type": "stream",
     "text": [
      "----------------------------------------------------------------------------------\n",
      "    Model Price    Market Price     Implied Vol      Market Vol       Rel Error\n",
      "----------------------------------------------------------------------------------\n",
      "        0.02199         0.02373         0.00606         0.00654        -0.07342\n",
      "        0.02031         0.01912         0.00616         0.00580         0.06230\n",
      "        0.01626         0.01627         0.00532         0.00533        -0.00049\n",
      "        0.02230         0.02230         0.00517         0.00517         0.00002\n",
      "        0.01681         0.01681         0.00473         0.00473        -0.00006\n",
      "        0.01956         0.01956         0.00478         0.00478         0.00001\n",
      "        0.02157         0.02157         0.00477         0.00477         0.00005\n",
      "        0.02207         0.02207         0.00476         0.00476        -0.00008\n",
      "        0.02447         0.02447         0.00492         0.00492        -0.00022\n",
      "        0.02440         0.02439         0.00497         0.00496         0.00055\n",
      "        0.02810         0.02811         0.00513         0.00513        -0.00029\n",
      "        0.02587         0.02587         0.00518         0.00518         0.00002\n",
      "        0.02850         0.02850         0.00531         0.00531        -0.00007\n",
      "        0.02741         0.02742         0.00543         0.00543        -0.00008\n",
      "        0.02944         0.02944         0.00540         0.00540         0.00007\n",
      "        0.02412         0.02412         0.00536         0.00536         0.00014\n",
      "        0.02664         0.02664         0.00527         0.00527         0.00009\n",
      "        0.01905         0.01905         0.00514         0.00514        -0.00019\n",
      "        0.01007         0.01007         0.00500         0.00500         0.00003\n",
      "----------------------------------------------------------------------------------\n",
      "Cumulative Error :         0.09629\n"
     ]
    }
   ],
   "source": [
    "model = tools.calibrateGSR(eur6m_bpvols_data, today, t0_curve, index, calendar)"
   ]
  },
  {
   "cell_type": "markdown",
   "metadata": {},
   "source": [
    "print to excel:"
   ]
  },
  {
   "cell_type": "code",
   "execution_count": 13,
   "metadata": {},
   "outputs": [],
   "source": [
    "helpersmatr = tools.helpersMatr(model, eur6m_bpvols_data, t0_curve, index)\n",
    "modelvalue = np.zeros((len(helpersmatr), len(helpersmatr[0])))\n",
    "implied_vol = np.zeros((len(helpersmatr), len(helpersmatr[0])))\n",
    "relative_error = np.zeros((len(helpersmatr), len(helpersmatr[0])))\n",
    "try:\n",
    "    for i in range(len(helpersmatr)):\n",
    "        for j in range(len(helpersmatr[i])):\n",
    "            swaption = helpersmatr[i][j]\n",
    "            modelvalue[i,j] = swaption.modelValue()\n",
    "            market_vol = helpersmatr[i][j].volatility().value()\n",
    "            implied_vol[i,j] = swaption.impliedVolatility(modelvalue[i,j],\n",
    "                                              1e-5, 50, 0.0, 0.50)\n",
    "            rel_error2 = (implied_vol[i,j]/market_vol-1.0)\n",
    "            relative_error[i,j] = rel_error2\n",
    "except:\n",
    "    print(\"Exception \")\n",
    "\n",
    "df_implied = pd.DataFrame(implied_vol)\n",
    "sheet_results = wb.sheets[\"model_surface\"]\n",
    "sheet_results.range(\"A1\").value = df_implied\n",
    "sheet_results.range(\"R25\").value = abs(relative_error)"
   ]
  },
  {
   "cell_type": "code",
   "execution_count": null,
   "metadata": {},
   "outputs": [],
   "source": []
  },
  {
   "cell_type": "code",
   "execution_count": 11,
   "metadata": {},
   "outputs": [
    {
     "data": {
      "application/vnd.plotly.v1+json": {
       "config": {
        "plotlyServerURL": "https://plot.ly"
       },
       "data": [
        {
         "type": "surface",
         "z": [
          [
           17.5,
           18.5,
           26.1,
           33.6,
           42,
           44.4,
           47.2,
           49,
           50.8,
           52.1,
           57.5,
           61.6,
           65.4
          ],
          [
           17.7,
           18.6,
           24.8,
           31.4,
           38.7,
           41.3,
           44,
           46.1,
           48.1,
           49.3,
           54.5,
           58,
           61
          ],
          [
           17.2,
           18.2,
           24.4,
           31.1,
           37.7,
           40.7,
           43.4,
           45.5,
           47.3,
           48.6,
           53.3,
           56.8,
           59.3
          ],
          [
           18.9,
           20.8,
           26.1,
           31.8,
           37,
           39.6,
           41.9,
           44,
           45.7,
           47.3,
           51.7,
           54.5,
           56.5
          ],
          [
           19.9,
           22.3,
           27.2,
           32.6,
           37.3,
           40,
           42.4,
           44.2,
           46,
           47.3,
           51.6,
           54.2,
           55.9
          ],
          [
           21.2,
           23.6,
           28.2,
           33,
           37.7,
           40.7,
           42.8,
           44.7,
           46.4,
           47.8,
           51.6,
           53.8,
           55.6
          ],
          [
           23.4,
           26.5,
           31,
           35.2,
           39.8,
           42.4,
           44.3,
           46.1,
           47.7,
           49,
           52.2,
           54.4,
           55.9
          ],
          [
           26.7,
           30.8,
           35.1,
           38.3,
           42,
           44,
           46,
           47.6,
           49,
           50.3,
           52.8,
           54.7,
           55.9
          ],
          [
           35,
           38.4,
           41.2,
           43.6,
           46,
           47.7,
           49.2,
           50.3,
           51.3,
           52.1,
           53.6,
           54.9,
           55.5
          ],
          [
           41.3,
           44.1,
           45.8,
           47.2,
           48.5,
           49.6,
           50.7,
           51.5,
           52.5,
           53.1,
           54,
           54.7,
           54.7
          ],
          [
           45.2,
           47.4,
           48.6,
           49.5,
           50.5,
           51.3,
           51.9,
           52.6,
           53.2,
           53.7,
           54.2,
           54.4,
           54.2
          ],
          [
           48.5,
           50,
           50.5,
           51.3,
           51.8,
           52.4,
           52.8,
           53.3,
           53.6,
           53.8,
           53.5,
           53.7,
           53.2
          ],
          [
           50.9,
           52.1,
           52.4,
           52.9,
           53.1,
           53.3,
           53.6,
           53.6,
           53.9,
           54.1,
           53.5,
           53.3,
           52.8
          ],
          [
           54.1,
           54.6,
           54.5,
           54.3,
           54.1,
           54,
           54,
           53.7,
           53.7,
           53.9,
           52.5,
           51.7,
           50.4
          ],
          [
           54.5,
           54.7,
           54.3,
           54,
           53.6,
           53.6,
           53.5,
           53.4,
           53,
           53.1,
           51.4,
           50.4,
           48.7
          ],
          [
           53.7,
           53.8,
           53.6,
           53.5,
           53.4,
           53.1,
           52.9,
           52.5,
           52.4,
           52.3,
           50.4,
           48.9,
           46.8
          ],
          [
           52.7,
           52.7,
           52.7,
           52.5,
           52.5,
           52.3,
           51.7,
           51.3,
           50.9,
           50.5,
           48.2,
           46.4,
           43.7
          ],
          [
           51.3,
           51.4,
           51.5,
           51.4,
           51.3,
           50.7,
           50.2,
           49.4,
           49,
           48.6,
           46.2,
           44,
           40.8
          ],
          [
           50,
           50.1,
           50.3,
           50.4,
           50.5,
           49.8,
           48.9,
           48,
           47.1,
           46.7,
           43.8,
           41.7,
           38.3
          ]
         ]
        }
       ],
       "layout": {
        "autosize": true,
        "height": 700,
        "template": {
         "data": {
          "bar": [
           {
            "error_x": {
             "color": "#2a3f5f"
            },
            "error_y": {
             "color": "#2a3f5f"
            },
            "marker": {
             "line": {
              "color": "#E5ECF6",
              "width": 0.5
             },
             "pattern": {
              "fillmode": "overlay",
              "size": 10,
              "solidity": 0.2
             }
            },
            "type": "bar"
           }
          ],
          "barpolar": [
           {
            "marker": {
             "line": {
              "color": "#E5ECF6",
              "width": 0.5
             },
             "pattern": {
              "fillmode": "overlay",
              "size": 10,
              "solidity": 0.2
             }
            },
            "type": "barpolar"
           }
          ],
          "carpet": [
           {
            "aaxis": {
             "endlinecolor": "#2a3f5f",
             "gridcolor": "white",
             "linecolor": "white",
             "minorgridcolor": "white",
             "startlinecolor": "#2a3f5f"
            },
            "baxis": {
             "endlinecolor": "#2a3f5f",
             "gridcolor": "white",
             "linecolor": "white",
             "minorgridcolor": "white",
             "startlinecolor": "#2a3f5f"
            },
            "type": "carpet"
           }
          ],
          "choropleth": [
           {
            "colorbar": {
             "outlinewidth": 0,
             "ticks": ""
            },
            "type": "choropleth"
           }
          ],
          "contour": [
           {
            "colorbar": {
             "outlinewidth": 0,
             "ticks": ""
            },
            "colorscale": [
             [
              0,
              "#0d0887"
             ],
             [
              0.1111111111111111,
              "#46039f"
             ],
             [
              0.2222222222222222,
              "#7201a8"
             ],
             [
              0.3333333333333333,
              "#9c179e"
             ],
             [
              0.4444444444444444,
              "#bd3786"
             ],
             [
              0.5555555555555556,
              "#d8576b"
             ],
             [
              0.6666666666666666,
              "#ed7953"
             ],
             [
              0.7777777777777778,
              "#fb9f3a"
             ],
             [
              0.8888888888888888,
              "#fdca26"
             ],
             [
              1,
              "#f0f921"
             ]
            ],
            "type": "contour"
           }
          ],
          "contourcarpet": [
           {
            "colorbar": {
             "outlinewidth": 0,
             "ticks": ""
            },
            "type": "contourcarpet"
           }
          ],
          "heatmap": [
           {
            "colorbar": {
             "outlinewidth": 0,
             "ticks": ""
            },
            "colorscale": [
             [
              0,
              "#0d0887"
             ],
             [
              0.1111111111111111,
              "#46039f"
             ],
             [
              0.2222222222222222,
              "#7201a8"
             ],
             [
              0.3333333333333333,
              "#9c179e"
             ],
             [
              0.4444444444444444,
              "#bd3786"
             ],
             [
              0.5555555555555556,
              "#d8576b"
             ],
             [
              0.6666666666666666,
              "#ed7953"
             ],
             [
              0.7777777777777778,
              "#fb9f3a"
             ],
             [
              0.8888888888888888,
              "#fdca26"
             ],
             [
              1,
              "#f0f921"
             ]
            ],
            "type": "heatmap"
           }
          ],
          "heatmapgl": [
           {
            "colorbar": {
             "outlinewidth": 0,
             "ticks": ""
            },
            "colorscale": [
             [
              0,
              "#0d0887"
             ],
             [
              0.1111111111111111,
              "#46039f"
             ],
             [
              0.2222222222222222,
              "#7201a8"
             ],
             [
              0.3333333333333333,
              "#9c179e"
             ],
             [
              0.4444444444444444,
              "#bd3786"
             ],
             [
              0.5555555555555556,
              "#d8576b"
             ],
             [
              0.6666666666666666,
              "#ed7953"
             ],
             [
              0.7777777777777778,
              "#fb9f3a"
             ],
             [
              0.8888888888888888,
              "#fdca26"
             ],
             [
              1,
              "#f0f921"
             ]
            ],
            "type": "heatmapgl"
           }
          ],
          "histogram": [
           {
            "marker": {
             "pattern": {
              "fillmode": "overlay",
              "size": 10,
              "solidity": 0.2
             }
            },
            "type": "histogram"
           }
          ],
          "histogram2d": [
           {
            "colorbar": {
             "outlinewidth": 0,
             "ticks": ""
            },
            "colorscale": [
             [
              0,
              "#0d0887"
             ],
             [
              0.1111111111111111,
              "#46039f"
             ],
             [
              0.2222222222222222,
              "#7201a8"
             ],
             [
              0.3333333333333333,
              "#9c179e"
             ],
             [
              0.4444444444444444,
              "#bd3786"
             ],
             [
              0.5555555555555556,
              "#d8576b"
             ],
             [
              0.6666666666666666,
              "#ed7953"
             ],
             [
              0.7777777777777778,
              "#fb9f3a"
             ],
             [
              0.8888888888888888,
              "#fdca26"
             ],
             [
              1,
              "#f0f921"
             ]
            ],
            "type": "histogram2d"
           }
          ],
          "histogram2dcontour": [
           {
            "colorbar": {
             "outlinewidth": 0,
             "ticks": ""
            },
            "colorscale": [
             [
              0,
              "#0d0887"
             ],
             [
              0.1111111111111111,
              "#46039f"
             ],
             [
              0.2222222222222222,
              "#7201a8"
             ],
             [
              0.3333333333333333,
              "#9c179e"
             ],
             [
              0.4444444444444444,
              "#bd3786"
             ],
             [
              0.5555555555555556,
              "#d8576b"
             ],
             [
              0.6666666666666666,
              "#ed7953"
             ],
             [
              0.7777777777777778,
              "#fb9f3a"
             ],
             [
              0.8888888888888888,
              "#fdca26"
             ],
             [
              1,
              "#f0f921"
             ]
            ],
            "type": "histogram2dcontour"
           }
          ],
          "mesh3d": [
           {
            "colorbar": {
             "outlinewidth": 0,
             "ticks": ""
            },
            "type": "mesh3d"
           }
          ],
          "parcoords": [
           {
            "line": {
             "colorbar": {
              "outlinewidth": 0,
              "ticks": ""
             }
            },
            "type": "parcoords"
           }
          ],
          "pie": [
           {
            "automargin": true,
            "type": "pie"
           }
          ],
          "scatter": [
           {
            "fillpattern": {
             "fillmode": "overlay",
             "size": 10,
             "solidity": 0.2
            },
            "type": "scatter"
           }
          ],
          "scatter3d": [
           {
            "line": {
             "colorbar": {
              "outlinewidth": 0,
              "ticks": ""
             }
            },
            "marker": {
             "colorbar": {
              "outlinewidth": 0,
              "ticks": ""
             }
            },
            "type": "scatter3d"
           }
          ],
          "scattercarpet": [
           {
            "marker": {
             "colorbar": {
              "outlinewidth": 0,
              "ticks": ""
             }
            },
            "type": "scattercarpet"
           }
          ],
          "scattergeo": [
           {
            "marker": {
             "colorbar": {
              "outlinewidth": 0,
              "ticks": ""
             }
            },
            "type": "scattergeo"
           }
          ],
          "scattergl": [
           {
            "marker": {
             "colorbar": {
              "outlinewidth": 0,
              "ticks": ""
             }
            },
            "type": "scattergl"
           }
          ],
          "scattermapbox": [
           {
            "marker": {
             "colorbar": {
              "outlinewidth": 0,
              "ticks": ""
             }
            },
            "type": "scattermapbox"
           }
          ],
          "scatterpolar": [
           {
            "marker": {
             "colorbar": {
              "outlinewidth": 0,
              "ticks": ""
             }
            },
            "type": "scatterpolar"
           }
          ],
          "scatterpolargl": [
           {
            "marker": {
             "colorbar": {
              "outlinewidth": 0,
              "ticks": ""
             }
            },
            "type": "scatterpolargl"
           }
          ],
          "scatterternary": [
           {
            "marker": {
             "colorbar": {
              "outlinewidth": 0,
              "ticks": ""
             }
            },
            "type": "scatterternary"
           }
          ],
          "surface": [
           {
            "colorbar": {
             "outlinewidth": 0,
             "ticks": ""
            },
            "colorscale": [
             [
              0,
              "#0d0887"
             ],
             [
              0.1111111111111111,
              "#46039f"
             ],
             [
              0.2222222222222222,
              "#7201a8"
             ],
             [
              0.3333333333333333,
              "#9c179e"
             ],
             [
              0.4444444444444444,
              "#bd3786"
             ],
             [
              0.5555555555555556,
              "#d8576b"
             ],
             [
              0.6666666666666666,
              "#ed7953"
             ],
             [
              0.7777777777777778,
              "#fb9f3a"
             ],
             [
              0.8888888888888888,
              "#fdca26"
             ],
             [
              1,
              "#f0f921"
             ]
            ],
            "type": "surface"
           }
          ],
          "table": [
           {
            "cells": {
             "fill": {
              "color": "#EBF0F8"
             },
             "line": {
              "color": "white"
             }
            },
            "header": {
             "fill": {
              "color": "#C8D4E3"
             },
             "line": {
              "color": "white"
             }
            },
            "type": "table"
           }
          ]
         },
         "layout": {
          "annotationdefaults": {
           "arrowcolor": "#2a3f5f",
           "arrowhead": 0,
           "arrowwidth": 1
          },
          "autotypenumbers": "strict",
          "coloraxis": {
           "colorbar": {
            "outlinewidth": 0,
            "ticks": ""
           }
          },
          "colorscale": {
           "diverging": [
            [
             0,
             "#8e0152"
            ],
            [
             0.1,
             "#c51b7d"
            ],
            [
             0.2,
             "#de77ae"
            ],
            [
             0.3,
             "#f1b6da"
            ],
            [
             0.4,
             "#fde0ef"
            ],
            [
             0.5,
             "#f7f7f7"
            ],
            [
             0.6,
             "#e6f5d0"
            ],
            [
             0.7,
             "#b8e186"
            ],
            [
             0.8,
             "#7fbc41"
            ],
            [
             0.9,
             "#4d9221"
            ],
            [
             1,
             "#276419"
            ]
           ],
           "sequential": [
            [
             0,
             "#0d0887"
            ],
            [
             0.1111111111111111,
             "#46039f"
            ],
            [
             0.2222222222222222,
             "#7201a8"
            ],
            [
             0.3333333333333333,
             "#9c179e"
            ],
            [
             0.4444444444444444,
             "#bd3786"
            ],
            [
             0.5555555555555556,
             "#d8576b"
            ],
            [
             0.6666666666666666,
             "#ed7953"
            ],
            [
             0.7777777777777778,
             "#fb9f3a"
            ],
            [
             0.8888888888888888,
             "#fdca26"
            ],
            [
             1,
             "#f0f921"
            ]
           ],
           "sequentialminus": [
            [
             0,
             "#0d0887"
            ],
            [
             0.1111111111111111,
             "#46039f"
            ],
            [
             0.2222222222222222,
             "#7201a8"
            ],
            [
             0.3333333333333333,
             "#9c179e"
            ],
            [
             0.4444444444444444,
             "#bd3786"
            ],
            [
             0.5555555555555556,
             "#d8576b"
            ],
            [
             0.6666666666666666,
             "#ed7953"
            ],
            [
             0.7777777777777778,
             "#fb9f3a"
            ],
            [
             0.8888888888888888,
             "#fdca26"
            ],
            [
             1,
             "#f0f921"
            ]
           ]
          },
          "colorway": [
           "#636efa",
           "#EF553B",
           "#00cc96",
           "#ab63fa",
           "#FFA15A",
           "#19d3f3",
           "#FF6692",
           "#B6E880",
           "#FF97FF",
           "#FECB52"
          ],
          "font": {
           "color": "#2a3f5f"
          },
          "geo": {
           "bgcolor": "white",
           "lakecolor": "white",
           "landcolor": "#E5ECF6",
           "showlakes": true,
           "showland": true,
           "subunitcolor": "white"
          },
          "hoverlabel": {
           "align": "left"
          },
          "hovermode": "closest",
          "mapbox": {
           "style": "light"
          },
          "paper_bgcolor": "white",
          "plot_bgcolor": "#E5ECF6",
          "polar": {
           "angularaxis": {
            "gridcolor": "white",
            "linecolor": "white",
            "ticks": ""
           },
           "bgcolor": "#E5ECF6",
           "radialaxis": {
            "gridcolor": "white",
            "linecolor": "white",
            "ticks": ""
           }
          },
          "scene": {
           "xaxis": {
            "backgroundcolor": "#E5ECF6",
            "gridcolor": "white",
            "gridwidth": 2,
            "linecolor": "white",
            "showbackground": true,
            "ticks": "",
            "zerolinecolor": "white"
           },
           "yaxis": {
            "backgroundcolor": "#E5ECF6",
            "gridcolor": "white",
            "gridwidth": 2,
            "linecolor": "white",
            "showbackground": true,
            "ticks": "",
            "zerolinecolor": "white"
           },
           "zaxis": {
            "backgroundcolor": "#E5ECF6",
            "gridcolor": "white",
            "gridwidth": 2,
            "linecolor": "white",
            "showbackground": true,
            "ticks": "",
            "zerolinecolor": "white"
           }
          },
          "shapedefaults": {
           "line": {
            "color": "#2a3f5f"
           }
          },
          "ternary": {
           "aaxis": {
            "gridcolor": "white",
            "linecolor": "white",
            "ticks": ""
           },
           "baxis": {
            "gridcolor": "white",
            "linecolor": "white",
            "ticks": ""
           },
           "bgcolor": "#E5ECF6",
           "caxis": {
            "gridcolor": "white",
            "linecolor": "white",
            "ticks": ""
           }
          },
          "title": {
           "x": 0.05
          },
          "xaxis": {
           "automargin": true,
           "gridcolor": "white",
           "linecolor": "white",
           "ticks": "",
           "title": {
            "standoff": 15
           },
           "zerolinecolor": "white",
           "zerolinewidth": 2
          },
          "yaxis": {
           "automargin": true,
           "gridcolor": "white",
           "linecolor": "white",
           "ticks": "",
           "title": {
            "standoff": 15
           },
           "zerolinecolor": "white",
           "zerolinewidth": 2
          }
         }
        },
        "title": {
         "text": "Market Implied Volatility"
        },
        "width": 800
       }
      }
     },
     "metadata": {},
     "output_type": "display_data"
    }
   ],
   "source": [
    "\n",
    "vol_maturities = [1,2,3,4,5,6,7,8,9,10,15,20,30]\n",
    "vol_tenors = [1/12, 2/12, 3/12, 6/12,9/12, 1, 18/12, 2,3,4,5,6,7,10,12,15,20,25,30]\n",
    "vols = df_implied.values*10000\n",
    "\n",
    "fig = go.Figure(data=[go.Surface(z=eur6m_bpvols_data)])\n",
    "\n",
    "fig.update_layout(title='Market Implied Volatility', autosize=True,\n",
    "                  width=800, height=700)"
   ]
  },
  {
   "cell_type": "code",
   "execution_count": null,
   "metadata": {},
   "outputs": [],
   "source": []
  },
  {
   "cell_type": "code",
   "execution_count": null,
   "metadata": {},
   "outputs": [],
   "source": []
  },
  {
   "cell_type": "code",
   "execution_count": 12,
   "metadata": {},
   "outputs": [
    {
     "data": {
      "application/vnd.plotly.v1+json": {
       "config": {
        "plotlyServerURL": "https://plot.ly"
       },
       "data": [
        {
         "colorbar": {
          "orientation": "v"
         },
         "type": "heatmap",
         "z": [
          [
           48.158690866510554,
           46.98938855750306,
           39.180696186327744,
           31.50832276329897,
           22.917971752659327,
           20.31021962740926,
           17.28853617637023,
           15.25482715950443,
           13.212355791879276,
           11.660255914483699,
           5.037507197654044,
           0,
           -4.8014166800501386
          ],
          [
           47.960173179709216,
           46.825828381414915,
           40.47583581879675,
           33.70488152376651,
           26.21479528355232,
           23.40728329059671,
           20.486632788638545,
           18.151025364877036,
           15.908184379885263,
           14.456827207492452,
           8.03775096659308,
           3.6131470159184005,
           -0.382237330962063
          ],
          [
           38.69969172716927,
           37.556943903744084,
           31.213750549358807,
           24.36031006658458,
           17.5943083224253,
           14.415558748686422,
           11.518868550984259,
           9.220390104253816,
           7.21380935134524,
           5.700530432996871,
           -0.05000000000002558,
           -4.302477543055154,
           -7.709429717409627
          ],
          [
           35.24328389845404,
           33.21828932029824,
           27.787119992534187,
           21.944225143579434,
           16.54879719538387,
           13.789667301153116,
           11.317193530937523,
           9.03408873193662,
           7.142349312976862,
           5.343996936251806,
           0,
           -3.505499831195877,
           -6.33922011212681
          ],
          [
           28.76400258121987,
           26.247463815748322,
           21.224016296293296,
           15.690476300006281,
           10.846682574402337,
           7.993584299290987,
           5.429621929411027,
           3.4583450065962467,
           1.479777790487816,
           0,
           -5.157725374840048,
           -8.39654412440558,
           -10.88107013105467
          ],
          [
           27.9669236083588,
           25.451954248497863,
           20.729662912024235,
           15.796805056806726,
           10.951925321764591,
           7.797058523585754,
           5.532592222052941,
           3.4613863332963533,
           1.5820376455964436,
           0,
           -4.647231639095793,
           -7.475354800312857,
           -10.066913421337539
          ],
          [
           25.53033617552618,
           22.311902152512772,
           17.684537129026793,
           13.315623745864883,
           8.573963645190652,
           5.819654915877351,
           3.755075987223158,
           1.7819883507104208,
           0,
           -1.477506344283654,
           -5.49140278041024,
           -8.245547612296853,
           -10.457911258087776
          ],
          [
           21.888536444789022,
           17.680449149773377,
           13.22574182312416,
           9.9030547960311,
           6.068084250709305,
           3.9195615706983133,
           1.7623909326802973,
           0,
           -1.5745155605410872,
           -3.044428726341202,
           -6.310683372590823,
           -8.783841809586612,
           -10.7143828782119
          ],
          [
           15.060359734365143,
           11.50122730547568,
           8.588887051491447,
           6.05830031372323,
           3.512293352588344,
           1.6559068016986558,
           0,
           -1.2831386400010842,
           -2.456124966164559,
           -3.4330917852092853,
           -5.666452860524672,
           -7.448691449338796,
           -8.782695719609741
          ],
          [
           9.014571986182077,
           6.071887382428706,
           4.258118538681522,
           2.726465194399431,
           1.2825503404369414,
           0.05000000000002558,
           -1.2343281643531085,
           -2.199462531158474,
           -3.368413423758554,
           -4.131196274923816,
           -5.7451119024037,
           -6.88454498430923,
           -7.630039572799944
          ],
          [
           6.72483044439317,
           4.419948202762242,
           3.102247674678239,
           2.0734403038612115,
           0.932927957943626,
           0,
           -0.771740065082632,
           -1.6300763610728808,
           -2.3829533403322145,
           -3.033131452192613,
           -4.204045956628825,
           -4.933659067936759,
           -5.485565928118547
          ],
          [
           3.8156232787783537,
           2.205291012207944,
           1.5819180799598058,
           0.6459124846213484,
           0,
           -0.7549296368638849,
           -1.3129151842400901,
           -1.9669850367453918,
           -2.4198456355333633,
           -2.7547291971244547,
           -3.128121801588904,
           -3.746584088179013,
           -4.121341914221986
          ],
          [
           2.7107083764810227,
           1.3995062506326263,
           0.9752673995083825,
           0.3396851777511003,
           0,
           -0.3552996073969368,
           -0.8055518133294228,
           -0.95583579035263,
           -1.3901613777051978,
           -1.7292630145940322,
           -1.7915188393372432,
           -2.014310128929182,
           -2.4971660227100614
          ],
          [
           0.631808637720205,
           0,
           -0.05233601978490299,
           0,
           0.050000000000018474,
           0,
           -0.16916917505547246,
           0,
           -0.1444599775160853,
           -0.46936267495886597,
           0.3957805195878308,
           0.6332395097127019,
           0.8046541577566089
          ],
          [
           -0.09970295703028853,
           -0.43031253790611146,
           -0.16398493176924944,
           0,
           0.2637490513080749,
           0.11625151120203725,
           0.0632104125051498,
           0,
           0.28189931859459705,
           0.05000000000002558,
           1.2060129908054122,
           1.6172135460685482,
           2.0504422066620194
          ],
          [
           0.16145672860875493,
           -0.0633267950626788,
           0,
           -0.05000000000002558,
           -0.0732822706263292,
           0.10703632519388151,
           0.17218107219265733,
           0.42461505098172836,
           0.36680605531536514,
           0.29877285352455374,
           1.652085900705785,
           2.455747480544872,
           3.171258338227048
          ],
          [
           0.3179010025570719,
           0.1407710084086915,
           0,
           0.08617416735761196,
           -0.050000000000018474,
           0.050000000000018474,
           0.5188122247024154,
           0.7772009456761637,
           1.0243028930962126,
           1.2616844641232063,
           2.8483391612195987,
           3.867878592677215,
           4.986897315593794
          ],
          [
           0.25791435464720536,
           0,
           -0.26459758559143864,
           -0.2790368017903688,
           -0.3035554234291169,
           0.17008862753407072,
           0.5309633809415857,
           1.1808836944756678,
           1.4201771127563987,
           1.6493343926877628,
           3.3093639803365704,
           4.674484149914477,
           6.157713449964618
          ],
          [
           0,
           -0.2407434875465384,
           -0.5940655175292449,
           -0.860681957048115,
           -1.122580282317692,
           -0.5319995135304154,
           0.24588542493257393,
           1.0102186145162406,
           1.7630681429267199,
           2.006011701785283,
           4.132034052356971,
           5.40908586279091,
           7.030495397689869
          ]
         ]
        }
       ],
       "layout": {
        "template": {
         "data": {
          "bar": [
           {
            "error_x": {
             "color": "#2a3f5f"
            },
            "error_y": {
             "color": "#2a3f5f"
            },
            "marker": {
             "line": {
              "color": "#E5ECF6",
              "width": 0.5
             },
             "pattern": {
              "fillmode": "overlay",
              "size": 10,
              "solidity": 0.2
             }
            },
            "type": "bar"
           }
          ],
          "barpolar": [
           {
            "marker": {
             "line": {
              "color": "#E5ECF6",
              "width": 0.5
             },
             "pattern": {
              "fillmode": "overlay",
              "size": 10,
              "solidity": 0.2
             }
            },
            "type": "barpolar"
           }
          ],
          "carpet": [
           {
            "aaxis": {
             "endlinecolor": "#2a3f5f",
             "gridcolor": "white",
             "linecolor": "white",
             "minorgridcolor": "white",
             "startlinecolor": "#2a3f5f"
            },
            "baxis": {
             "endlinecolor": "#2a3f5f",
             "gridcolor": "white",
             "linecolor": "white",
             "minorgridcolor": "white",
             "startlinecolor": "#2a3f5f"
            },
            "type": "carpet"
           }
          ],
          "choropleth": [
           {
            "colorbar": {
             "outlinewidth": 0,
             "ticks": ""
            },
            "type": "choropleth"
           }
          ],
          "contour": [
           {
            "colorbar": {
             "outlinewidth": 0,
             "ticks": ""
            },
            "colorscale": [
             [
              0,
              "#0d0887"
             ],
             [
              0.1111111111111111,
              "#46039f"
             ],
             [
              0.2222222222222222,
              "#7201a8"
             ],
             [
              0.3333333333333333,
              "#9c179e"
             ],
             [
              0.4444444444444444,
              "#bd3786"
             ],
             [
              0.5555555555555556,
              "#d8576b"
             ],
             [
              0.6666666666666666,
              "#ed7953"
             ],
             [
              0.7777777777777778,
              "#fb9f3a"
             ],
             [
              0.8888888888888888,
              "#fdca26"
             ],
             [
              1,
              "#f0f921"
             ]
            ],
            "type": "contour"
           }
          ],
          "contourcarpet": [
           {
            "colorbar": {
             "outlinewidth": 0,
             "ticks": ""
            },
            "type": "contourcarpet"
           }
          ],
          "heatmap": [
           {
            "colorbar": {
             "outlinewidth": 0,
             "ticks": ""
            },
            "colorscale": [
             [
              0,
              "#0d0887"
             ],
             [
              0.1111111111111111,
              "#46039f"
             ],
             [
              0.2222222222222222,
              "#7201a8"
             ],
             [
              0.3333333333333333,
              "#9c179e"
             ],
             [
              0.4444444444444444,
              "#bd3786"
             ],
             [
              0.5555555555555556,
              "#d8576b"
             ],
             [
              0.6666666666666666,
              "#ed7953"
             ],
             [
              0.7777777777777778,
              "#fb9f3a"
             ],
             [
              0.8888888888888888,
              "#fdca26"
             ],
             [
              1,
              "#f0f921"
             ]
            ],
            "type": "heatmap"
           }
          ],
          "heatmapgl": [
           {
            "colorbar": {
             "outlinewidth": 0,
             "ticks": ""
            },
            "colorscale": [
             [
              0,
              "#0d0887"
             ],
             [
              0.1111111111111111,
              "#46039f"
             ],
             [
              0.2222222222222222,
              "#7201a8"
             ],
             [
              0.3333333333333333,
              "#9c179e"
             ],
             [
              0.4444444444444444,
              "#bd3786"
             ],
             [
              0.5555555555555556,
              "#d8576b"
             ],
             [
              0.6666666666666666,
              "#ed7953"
             ],
             [
              0.7777777777777778,
              "#fb9f3a"
             ],
             [
              0.8888888888888888,
              "#fdca26"
             ],
             [
              1,
              "#f0f921"
             ]
            ],
            "type": "heatmapgl"
           }
          ],
          "histogram": [
           {
            "marker": {
             "pattern": {
              "fillmode": "overlay",
              "size": 10,
              "solidity": 0.2
             }
            },
            "type": "histogram"
           }
          ],
          "histogram2d": [
           {
            "colorbar": {
             "outlinewidth": 0,
             "ticks": ""
            },
            "colorscale": [
             [
              0,
              "#0d0887"
             ],
             [
              0.1111111111111111,
              "#46039f"
             ],
             [
              0.2222222222222222,
              "#7201a8"
             ],
             [
              0.3333333333333333,
              "#9c179e"
             ],
             [
              0.4444444444444444,
              "#bd3786"
             ],
             [
              0.5555555555555556,
              "#d8576b"
             ],
             [
              0.6666666666666666,
              "#ed7953"
             ],
             [
              0.7777777777777778,
              "#fb9f3a"
             ],
             [
              0.8888888888888888,
              "#fdca26"
             ],
             [
              1,
              "#f0f921"
             ]
            ],
            "type": "histogram2d"
           }
          ],
          "histogram2dcontour": [
           {
            "colorbar": {
             "outlinewidth": 0,
             "ticks": ""
            },
            "colorscale": [
             [
              0,
              "#0d0887"
             ],
             [
              0.1111111111111111,
              "#46039f"
             ],
             [
              0.2222222222222222,
              "#7201a8"
             ],
             [
              0.3333333333333333,
              "#9c179e"
             ],
             [
              0.4444444444444444,
              "#bd3786"
             ],
             [
              0.5555555555555556,
              "#d8576b"
             ],
             [
              0.6666666666666666,
              "#ed7953"
             ],
             [
              0.7777777777777778,
              "#fb9f3a"
             ],
             [
              0.8888888888888888,
              "#fdca26"
             ],
             [
              1,
              "#f0f921"
             ]
            ],
            "type": "histogram2dcontour"
           }
          ],
          "mesh3d": [
           {
            "colorbar": {
             "outlinewidth": 0,
             "ticks": ""
            },
            "type": "mesh3d"
           }
          ],
          "parcoords": [
           {
            "line": {
             "colorbar": {
              "outlinewidth": 0,
              "ticks": ""
             }
            },
            "type": "parcoords"
           }
          ],
          "pie": [
           {
            "automargin": true,
            "type": "pie"
           }
          ],
          "scatter": [
           {
            "fillpattern": {
             "fillmode": "overlay",
             "size": 10,
             "solidity": 0.2
            },
            "type": "scatter"
           }
          ],
          "scatter3d": [
           {
            "line": {
             "colorbar": {
              "outlinewidth": 0,
              "ticks": ""
             }
            },
            "marker": {
             "colorbar": {
              "outlinewidth": 0,
              "ticks": ""
             }
            },
            "type": "scatter3d"
           }
          ],
          "scattercarpet": [
           {
            "marker": {
             "colorbar": {
              "outlinewidth": 0,
              "ticks": ""
             }
            },
            "type": "scattercarpet"
           }
          ],
          "scattergeo": [
           {
            "marker": {
             "colorbar": {
              "outlinewidth": 0,
              "ticks": ""
             }
            },
            "type": "scattergeo"
           }
          ],
          "scattergl": [
           {
            "marker": {
             "colorbar": {
              "outlinewidth": 0,
              "ticks": ""
             }
            },
            "type": "scattergl"
           }
          ],
          "scattermapbox": [
           {
            "marker": {
             "colorbar": {
              "outlinewidth": 0,
              "ticks": ""
             }
            },
            "type": "scattermapbox"
           }
          ],
          "scatterpolar": [
           {
            "marker": {
             "colorbar": {
              "outlinewidth": 0,
              "ticks": ""
             }
            },
            "type": "scatterpolar"
           }
          ],
          "scatterpolargl": [
           {
            "marker": {
             "colorbar": {
              "outlinewidth": 0,
              "ticks": ""
             }
            },
            "type": "scatterpolargl"
           }
          ],
          "scatterternary": [
           {
            "marker": {
             "colorbar": {
              "outlinewidth": 0,
              "ticks": ""
             }
            },
            "type": "scatterternary"
           }
          ],
          "surface": [
           {
            "colorbar": {
             "outlinewidth": 0,
             "ticks": ""
            },
            "colorscale": [
             [
              0,
              "#0d0887"
             ],
             [
              0.1111111111111111,
              "#46039f"
             ],
             [
              0.2222222222222222,
              "#7201a8"
             ],
             [
              0.3333333333333333,
              "#9c179e"
             ],
             [
              0.4444444444444444,
              "#bd3786"
             ],
             [
              0.5555555555555556,
              "#d8576b"
             ],
             [
              0.6666666666666666,
              "#ed7953"
             ],
             [
              0.7777777777777778,
              "#fb9f3a"
             ],
             [
              0.8888888888888888,
              "#fdca26"
             ],
             [
              1,
              "#f0f921"
             ]
            ],
            "type": "surface"
           }
          ],
          "table": [
           {
            "cells": {
             "fill": {
              "color": "#EBF0F8"
             },
             "line": {
              "color": "white"
             }
            },
            "header": {
             "fill": {
              "color": "#C8D4E3"
             },
             "line": {
              "color": "white"
             }
            },
            "type": "table"
           }
          ]
         },
         "layout": {
          "annotationdefaults": {
           "arrowcolor": "#2a3f5f",
           "arrowhead": 0,
           "arrowwidth": 1
          },
          "autotypenumbers": "strict",
          "coloraxis": {
           "colorbar": {
            "outlinewidth": 0,
            "ticks": ""
           }
          },
          "colorscale": {
           "diverging": [
            [
             0,
             "#8e0152"
            ],
            [
             0.1,
             "#c51b7d"
            ],
            [
             0.2,
             "#de77ae"
            ],
            [
             0.3,
             "#f1b6da"
            ],
            [
             0.4,
             "#fde0ef"
            ],
            [
             0.5,
             "#f7f7f7"
            ],
            [
             0.6,
             "#e6f5d0"
            ],
            [
             0.7,
             "#b8e186"
            ],
            [
             0.8,
             "#7fbc41"
            ],
            [
             0.9,
             "#4d9221"
            ],
            [
             1,
             "#276419"
            ]
           ],
           "sequential": [
            [
             0,
             "#0d0887"
            ],
            [
             0.1111111111111111,
             "#46039f"
            ],
            [
             0.2222222222222222,
             "#7201a8"
            ],
            [
             0.3333333333333333,
             "#9c179e"
            ],
            [
             0.4444444444444444,
             "#bd3786"
            ],
            [
             0.5555555555555556,
             "#d8576b"
            ],
            [
             0.6666666666666666,
             "#ed7953"
            ],
            [
             0.7777777777777778,
             "#fb9f3a"
            ],
            [
             0.8888888888888888,
             "#fdca26"
            ],
            [
             1,
             "#f0f921"
            ]
           ],
           "sequentialminus": [
            [
             0,
             "#0d0887"
            ],
            [
             0.1111111111111111,
             "#46039f"
            ],
            [
             0.2222222222222222,
             "#7201a8"
            ],
            [
             0.3333333333333333,
             "#9c179e"
            ],
            [
             0.4444444444444444,
             "#bd3786"
            ],
            [
             0.5555555555555556,
             "#d8576b"
            ],
            [
             0.6666666666666666,
             "#ed7953"
            ],
            [
             0.7777777777777778,
             "#fb9f3a"
            ],
            [
             0.8888888888888888,
             "#fdca26"
            ],
            [
             1,
             "#f0f921"
            ]
           ]
          },
          "colorway": [
           "#636efa",
           "#EF553B",
           "#00cc96",
           "#ab63fa",
           "#FFA15A",
           "#19d3f3",
           "#FF6692",
           "#B6E880",
           "#FF97FF",
           "#FECB52"
          ],
          "font": {
           "color": "#2a3f5f"
          },
          "geo": {
           "bgcolor": "white",
           "lakecolor": "white",
           "landcolor": "#E5ECF6",
           "showlakes": true,
           "showland": true,
           "subunitcolor": "white"
          },
          "hoverlabel": {
           "align": "left"
          },
          "hovermode": "closest",
          "mapbox": {
           "style": "light"
          },
          "paper_bgcolor": "white",
          "plot_bgcolor": "#E5ECF6",
          "polar": {
           "angularaxis": {
            "gridcolor": "white",
            "linecolor": "white",
            "ticks": ""
           },
           "bgcolor": "#E5ECF6",
           "radialaxis": {
            "gridcolor": "white",
            "linecolor": "white",
            "ticks": ""
           }
          },
          "scene": {
           "xaxis": {
            "backgroundcolor": "#E5ECF6",
            "gridcolor": "white",
            "gridwidth": 2,
            "linecolor": "white",
            "showbackground": true,
            "ticks": "",
            "zerolinecolor": "white"
           },
           "yaxis": {
            "backgroundcolor": "#E5ECF6",
            "gridcolor": "white",
            "gridwidth": 2,
            "linecolor": "white",
            "showbackground": true,
            "ticks": "",
            "zerolinecolor": "white"
           },
           "zaxis": {
            "backgroundcolor": "#E5ECF6",
            "gridcolor": "white",
            "gridwidth": 2,
            "linecolor": "white",
            "showbackground": true,
            "ticks": "",
            "zerolinecolor": "white"
           }
          },
          "shapedefaults": {
           "line": {
            "color": "#2a3f5f"
           }
          },
          "ternary": {
           "aaxis": {
            "gridcolor": "white",
            "linecolor": "white",
            "ticks": ""
           },
           "baxis": {
            "gridcolor": "white",
            "linecolor": "white",
            "ticks": ""
           },
           "bgcolor": "#E5ECF6",
           "caxis": {
            "gridcolor": "white",
            "linecolor": "white",
            "ticks": ""
           }
          },
          "title": {
           "x": 0.05
          },
          "xaxis": {
           "automargin": true,
           "gridcolor": "white",
           "linecolor": "white",
           "ticks": "",
           "title": {
            "standoff": 15
           },
           "zerolinecolor": "white",
           "zerolinewidth": 2
          },
          "yaxis": {
           "automargin": true,
           "gridcolor": "white",
           "linecolor": "white",
           "ticks": "",
           "title": {
            "standoff": 15
           },
           "zerolinecolor": "white",
           "zerolinewidth": 2
          }
         }
        }
       }
      }
     },
     "metadata": {},
     "output_type": "display_data"
    }
   ],
   "source": [
    "results_sheet = wb.sheets[\"model_surface\"]\n",
    "\n",
    "diff_market_model = results_sheet.range('AI24:AV43').options(pd.DataFrame).value\n",
    "diff_market_model_abs = results_sheet.range('AI2:AV21').options(pd.DataFrame).value\n",
    "\n",
    "# Create and show figure\n",
    "fig = go.Figure()\n",
    "\n",
    "fig.add_trace(go.Heatmap(\n",
    "                        z=diff_market_model_abs,\n",
    "                        colorbar=dict(orientation='v')))\n",
    "\n",
    "fig.show()"
   ]
  },
  {
   "cell_type": "code",
   "execution_count": null,
   "metadata": {},
   "outputs": [],
   "source": []
  }
 ],
 "metadata": {
  "kernelspec": {
   "display_name": "Python 3 (ipykernel)",
   "language": "python",
   "name": "python3"
  },
  "language_info": {
   "codemirror_mode": {
    "name": "ipython",
    "version": 3
   },
   "file_extension": ".py",
   "mimetype": "text/x-python",
   "name": "python",
   "nbconvert_exporter": "python",
   "pygments_lexer": "ipython3",
   "version": "3.10.7"
  }
 },
 "nbformat": 4,
 "nbformat_minor": 2
}
