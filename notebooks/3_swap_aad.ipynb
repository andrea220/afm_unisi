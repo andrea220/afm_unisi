{
 "cells": [
  {
   "cell_type": "markdown",
   "metadata": {},
   "source": [
    "![Logo dell'Università XYZ](img/logo.jpg)"
   ]
  },
  {
   "cell_type": "markdown",
   "metadata": {},
   "source": [
    "# Advanced Financial Modeling Course\n",
    "\n",
    "## Introduction\n",
    "\n",
    "This notebook is part of the teaching material of the Advanced Financial Modeling course! In this series of Jupyter notebooks, we will cover various topics related to financial modeling, including fundamental concepts, practical applications, and hands-on exercises.\n",
    "\n",
    "### Notebooks Overview\n",
    "\n",
    "1. [Notebook 1: Curve Building](notebooks/notebook1.ipynb)\n",
    "2. [Notebook 2: AAD Greeks](notebooks/notebook2.ipynb)\n",
    "3. [Notebook 3: Swap AAD Sensitivities](notebooks/notebook3.ipynb)\n",
    "3. [Notebook 4: Simulation of Extended Short-Rate Models](notebooks/notebook3.ipynb)\n",
    "4. [Notebook 5: Model Calibration](notebooks/notebook4.ipynb)\n",
    "5. [Notebook 6: SABR stochastic volatility](notebooks/notebook5.ipynb)\n",
    "5. [Notebook 7: xVA--CCR simulation](notebooks/notebook5.ipynb)\n",
    "\n",
    "\n",
    "## Notebook 3: Swap AAD Sensitivities \n",
    "\n",
    "This notebook provides an in-depth exploration of curve building in the context of interest rate modeling. We'll cover fundamental concepts and techniques for constructing interest rate curves, with a practical example focused on the EUR market.\n",
    "\n",
    "### Topics Covered\n",
    "\n",
    "- Understanding interest rate curves and their significance in financial modeling.\n",
    "- Utilizing QuantLib library to handle financial data and perform curve building tasks.\n",
    "- Principles of discounting and forwarding, essential for curve construction and valuation.\n",
    "- Interpolation methods for smoothing and extrapolating curve data.\n",
    "\n",
    "\n"
   ]
  },
  {
   "cell_type": "markdown",
   "metadata": {},
   "source": [
    "## Settings"
   ]
  },
  {
   "cell_type": "code",
   "execution_count": 1,
   "metadata": {},
   "outputs": [],
   "source": [
    "from util import tquant as tq\n",
    "\n",
    "import tensorflow as tf\n",
    "from datetime import date, timedelta\n",
    "import pandas as pd\n",
    "import matplotlib.pyplot as plt"
   ]
  },
  {
   "cell_type": "markdown",
   "metadata": {},
   "source": [
    "general settings"
   ]
  },
  {
   "cell_type": "code",
   "execution_count": 2,
   "metadata": {},
   "outputs": [],
   "source": [
    "calendar = tq.TARGET()\n",
    "daycounter = tq.DayCounter(tq.DayCounterConvention.Actual360)\n",
    "evaluation_date = tq.Settings.evaluation_date"
   ]
  },
  {
   "cell_type": "markdown",
   "metadata": {},
   "source": [
    "load market data"
   ]
  },
  {
   "cell_type": "code",
   "execution_count": 3,
   "metadata": {},
   "outputs": [],
   "source": [
    "mdl = tq.MarketDataLoader('20230929')\n",
    "rates = mdl.ir_eur_curve_estr['quote'].values\n",
    "times = mdl.ir_eur_curve_estr['daycount'].values/365 # /365 for convenience\n",
    "\n",
    "rates_6m = mdl.ir_eur_curve_6m['quote'].values\n",
    "times_6m = mdl.ir_eur_curve_6m['daycount'].values/365\n",
    "\n",
    "estr_curve = tq.RateCurve(times, rates)\n",
    "eur6m_curve = tq.RateCurve(times_6m, rates_6m)"
   ]
  },
  {
   "cell_type": "markdown",
   "metadata": {},
   "source": [
    "fixed leg informations"
   ]
  },
  {
   "cell_type": "code",
   "execution_count": 4,
   "metadata": {},
   "outputs": [],
   "source": [
    "# --------------\n",
    "# fixed leg\n",
    "start_date = date(2015,12,31)\n",
    "fixed_schedule = [start_date]\n",
    "fixed_schedule.extend([start_date + timedelta(365 *.5 *i) for i in range(1,51)])\n",
    "fixed_rate = [0.04156]*(len(fixed_schedule)-1)\n",
    "fixed_notional = [143857602,142099704,140995554,139343227,138170625,136487409,135100610,133235348,131633135,130088055,\n",
    "                128443001,126527961,124478813,122046073,119540895,117334856,115325682,113682288,112374057,110400222,108996590,\n",
    "                107427609,106277787,104934949,103826978,102318265,101011839,99241108,97427949,95062460,92643968,89488286,86306759,\n",
    "                82654668,79233393,75249260,71491885,67239725,63147273,58562602,54101515,49235670,44484930,39276217,34122360,28587822,\n",
    "                23186787,17327243,11581997,5627771]\n",
    "fixed_notional = [-1*n for n in fixed_notional] ## check\n",
    "fixed_daycounter = tq.DayCounter(tq.DayCounterConvention.Actual360)"
   ]
  },
  {
   "cell_type": "markdown",
   "metadata": {},
   "source": [
    "floating leg informations"
   ]
  },
  {
   "cell_type": "code",
   "execution_count": 5,
   "metadata": {},
   "outputs": [],
   "source": [
    "# --------------\n",
    "# floating leg\n",
    "floating_schedule = [start_date]\n",
    "floating_schedule.extend([start_date + timedelta(365 *.5 *i) for i in range(1,51)])\n",
    "\n",
    "floating_notional = [0,0,0,0,0,0,0,0,0,0,\n",
    "    128443001,126527961,124478813,122046073,119540895,117334856,115325682,113682288,112374057,110400222,108996590,\n",
    "    107427609,106277787,104934949,103826978,102318265,101011839,99241108,97427949,95062460,92643968,89488286,86306759,\n",
    "    82654668,79233393,75249260,71491885,67239725,63147273,58562602,54101515,49235670,44484930,39276217,34122360,28587822,\n",
    "    23186787,17327243,11581997,5627771]\n",
    "\n",
    "index_6m = tq.IborIndex('EUR6M',\n",
    "                        calendar,\n",
    "                        6,\n",
    "                        tq.TimeUnit.Months)\n",
    "spread = [0.] *(len(floating_schedule)-1)\n",
    "gearing = [1.] *(len(floating_schedule)-1)\n",
    "floating_daycounter = tq.DayCounter(tq.DayCounterConvention.Actual360)"
   ]
  },
  {
   "cell_type": "markdown",
   "metadata": {},
   "source": [
    "Historical fixing"
   ]
  },
  {
   "cell_type": "code",
   "execution_count": 6,
   "metadata": {},
   "outputs": [],
   "source": [
    "# --------------\n",
    "# fixing\n",
    "index_6m.add_fixing(date(2023, 6,29), 0.03)"
   ]
  },
  {
   "cell_type": "markdown",
   "metadata": {},
   "source": [
    "Swap object"
   ]
  },
  {
   "cell_type": "code",
   "execution_count": 7,
   "metadata": {},
   "outputs": [],
   "source": [
    "# --------------\n",
    "# swap object\n",
    "\n",
    "swap = tq.InterestRateSwap(floating_schedule, fixed_schedule,\n",
    "                            floating_notional, fixed_notional, gearing, spread,\n",
    "                            index_6m, fixed_rate, fixed_daycounter, floating_daycounter)"
   ]
  },
  {
   "cell_type": "markdown",
   "metadata": {},
   "source": [
    "Swap pricer"
   ]
  },
  {
   "cell_type": "code",
   "execution_count": 8,
   "metadata": {},
   "outputs": [],
   "source": [
    "swap_engine = tq.SwapAnalyticEngine(swap)"
   ]
  },
  {
   "cell_type": "code",
   "execution_count": 9,
   "metadata": {},
   "outputs": [],
   "source": [
    "npv_swap = swap_engine.price(estr_curve, eur6m_curve, evaluation_date)"
   ]
  },
  {
   "cell_type": "code",
   "execution_count": 10,
   "metadata": {},
   "outputs": [
    {
     "name": "stdout",
     "output_type": "stream",
     "text": [
      "NPV FixedLeg: -43,902,379\n",
      "NPV FloatingLeg: 36,315,279\n",
      "NPV Swap: -7,587,101\n"
     ]
    }
   ],
   "source": [
    "floating_leg_pricer = tq.FloatingLegDiscounting(swap.floating_leg)\n",
    "fixed_leg_pricer = tq.FixedLegDiscounting(swap.fixed_leg)\n",
    "\n",
    "npv_float = floating_leg_pricer.price(estr_curve, eur6m_curve, evaluation_date, tq.FloatingCouponDiscounting)\n",
    "npv_fixed = fixed_leg_pricer.price(estr_curve, evaluation_date, tq.FixedCouponDiscounting)\n",
    "\n",
    "print(f\"NPV FixedLeg: {npv_fixed :,.0f}\")\n",
    "print(f\"NPV FloatingLeg: {npv_float :,.0f}\")\n",
    "########\n",
    "print(f\"NPV Swap: {npv_swap :,.0f}\")"
   ]
  },
  {
   "cell_type": "code",
   "execution_count": 11,
   "metadata": {},
   "outputs": [],
   "source": [
    "npv_swap, tape = swap_engine.price_aad(estr_curve, eur6m_curve, evaluation_date)\n",
    "sensitivities = tape.gradient(npv_swap, [estr_curve.rates, eur6m_curve.rates])"
   ]
  },
  {
   "cell_type": "code",
   "execution_count": 12,
   "metadata": {},
   "outputs": [],
   "source": [
    "# Function to extract values from TensorFlow tensors\n",
    "def extract_value(x):\n",
    "    if isinstance(x, tf.Tensor):\n",
    "        return x.numpy()  # Extract value from TensorFlow tensor\n",
    "    else:\n",
    "        return x"
   ]
  },
  {
   "cell_type": "code",
   "execution_count": 13,
   "metadata": {},
   "outputs": [],
   "source": [
    "sensy_estr = pd.DataFrame([estr_curve.pillars.tolist(), sensitivities[0]]).T\n",
    "sensy_estr.columns = ['time', 'sensy_estr']\n",
    "sensy_estr.fillna(0, inplace = True)\n",
    "sensy_estr.set_index('time', inplace = True)\n",
    "sensy_estr['sensy_estr'] = sensy_estr['sensy_estr'].apply(extract_value)\n",
    "\n",
    "sensy_eur6m = pd.DataFrame([eur6m_curve.pillars.tolist(), sensitivities[1]]).T\n",
    "sensy_eur6m.columns = ['time', 'sensy_eur6m']\n",
    "sensy_eur6m.fillna(0, inplace = True)\n",
    "sensy_eur6m.set_index('time', inplace = True)\n",
    "sensy_eur6m['sensy_eur6m'] = sensy_eur6m['sensy_eur6m'].apply(extract_value)"
   ]
  },
  {
   "cell_type": "code",
   "execution_count": 14,
   "metadata": {},
   "outputs": [
    {
     "data": {
      "image/png": "[encoded data removed]",
      "text/plain": [
       "<Figure size 640x480 with 1 Axes>"
      ]
     },
     "metadata": {},
     "output_type": "display_data"
    }
   ],
   "source": [
    "# Plot line chart of column 'A'\n",
    "plt.bar(sensy_eur6m.index, sensy_eur6m['sensy_eur6m'])\n",
    "plt.xlabel('Index')\n",
    "plt.ylabel('Value')\n",
    "plt.title('EUR 6M sensy')\n",
    "plt.show()"
   ]
  },
  {
   "cell_type": "code",
   "execution_count": 15,
   "metadata": {},
   "outputs": [
    {
     "data": {
      "image/png": "[encoded data removed]",
      "text/plain": [
       "<Figure size 640x480 with 1 Axes>"
      ]
     },
     "metadata": {},
     "output_type": "display_data"
    }
   ],
   "source": [
    "\n",
    "plt.bar(sensy_estr.index, sensy_estr['sensy_estr'])\n",
    "plt.xlabel('Index')\n",
    "plt.ylabel('Value')\n",
    "plt.title('ESTR sensy')\n",
    "plt.show()"
   ]
  },
  {
   "cell_type": "markdown",
   "metadata": {},
   "source": [
    "# Tensor Pricing "
   ]
  },
  {
   "cell_type": "markdown",
   "metadata": {},
   "source": [
    "## simulate random 1M curves"
   ]
  },
  {
   "cell_type": "code",
   "execution_count": 16,
   "metadata": {},
   "outputs": [],
   "source": [
    "# instance of the hull-white model for 1M curve simulation\n",
    "mean_rev = 0.02\n",
    "sigma = 0.045\n",
    "hw = tq.HullWhiteProcess(mean_rev, sigma, market_curve=estr_curve)\n",
    "hw_kernel = tq.GaussianRateKernel1D(hw)\n",
    "\n",
    "# simulate short rate and discount curve \n",
    "paths = int(1e6) \n",
    "r_tensor, zb_tensor, grid = hw_kernel.rate_tensor(paths,\n",
    "                                                  last_grid_time=1,\n",
    "                                                  time_steps=2) # evaluation_date + 1y\n",
    "# Reshape the tensor and create a discount curve object\n",
    "reshaped_tensor = tf.reshape(zb_tensor, shape=(zb_tensor.shape[1], paths, 1))\n",
    "rate_curve_tensor = tq.DiscountCurveSimple(times, reshaped_tensor)"
   ]
  },
  {
   "cell_type": "markdown",
   "metadata": {},
   "source": [
    "## swap price for 1M simulated curves"
   ]
  },
  {
   "cell_type": "code",
   "execution_count": 17,
   "metadata": {},
   "outputs": [],
   "source": [
    "npv_swap = swap_engine.price(rate_curve_tensor, rate_curve_tensor, evaluation_date)"
   ]
  },
  {
   "cell_type": "code",
   "execution_count": 18,
   "metadata": {},
   "outputs": [
    {
     "data": {
      "text/plain": [
       "<tf.Tensor: shape=(1000000, 1), dtype=float64, numpy=\n",
       "array([[ -6750717.49403729],\n",
       "       [    56560.48928215],\n",
       "       [-12576244.17575634],\n",
       "       ...,\n",
       "       [-48718978.75072677],\n",
       "       [ 21922158.75598115],\n",
       "       [ 19948289.11218137]])>"
      ]
     },
     "execution_count": 18,
     "metadata": {},
     "output_type": "execute_result"
    }
   ],
   "source": [
    "npv_swap"
   ]
  },
  {
   "cell_type": "code",
   "execution_count": 19,
   "metadata": {},
   "outputs": [
    {
     "data": {
      "image/png": "[encoded data removed]",
      "text/plain": [
       "<Figure size 640x480 with 1 Axes>"
      ]
     },
     "metadata": {},
     "output_type": "display_data"
    }
   ],
   "source": [
    "plt.plot(npv_swap[:1000], '.');"
   ]
  },
  {
   "cell_type": "code",
   "execution_count": null,
   "metadata": {},
   "outputs": [],
   "source": []
  }
 ],
 "metadata": {
  "kernelspec": {
   "display_name": "Python 3",
   "language": "python",
   "name": "python3"
  },
  "language_info": {
   "codemirror_mode": {
    "name": "ipython",
    "version": 3
   },
   "file_extension": ".py",
   "mimetype": "text/x-python",
   "name": "python",
   "nbconvert_exporter": "python",
   "pygments_lexer": "ipython3",
   "version": "3.10.7"
  }
 },
 "nbformat": 4,
 "nbformat_minor": 2
}
