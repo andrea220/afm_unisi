{
 "cells": [
  {
   "cell_type": "markdown",
   "metadata": {},
   "source": [
    "![Logo dell'Università XYZ](img/logo.jpg)"
   ]
  },
  {
   "cell_type": "markdown",
   "metadata": {},
   "source": [
    "# Advanced Financial Modeling Course\n",
    "\n",
    "## Introduction\n",
    "\n",
    "This notebook is part of the teaching material of the Advanced Financial Modeling course! In this series of Jupyter notebooks, we will cover various topics related to financial modeling, including fundamental concepts, practical applications, and hands-on exercises.\n",
    "\n",
    "### Notebooks Overview\n",
    "\n",
    "1. [Notebook 1: Curve Building](notebooks/notebook1.ipynb)\n",
    "2. [Notebook 2: AAD Greeks](notebooks/notebook2.ipynb)\n",
    "3. [Notebook 3: Swap AAD Sensitivities](notebooks/notebook3.ipynb)\n",
    "3. [Notebook 4: Simulation of Extended Short-Rate Models](notebooks/notebook3.ipynb)\n",
    "4. [Notebook 5: Model Calibration](notebooks/notebook4.ipynb)\n",
    "5. [Notebook 6: SABR stochastic volatility](notebooks/notebook5.ipynb)\n",
    "5. [Notebook 7: xVA--CCR simulation](notebooks/notebook5.ipynb)\n",
    "\n",
    "\n",
    "## Notebook 2: AAD Greeks\n",
    "\n",
    "This notebook provides a brief overview of Automatic Adjoint Differentiation (AAD) and its relevance in financial modeling. AAD is a technique used to efficiently compute sensitivities (e.g., Greeks) of financial instruments with respect to various parameters. It's particularly useful in derivatives pricing and risk management, as it allows for accurate and fast computation of sensitivities, such as delta, gamma, theta, etc.\n",
    "\n",
    "### Topics Covered\n",
    "\n",
    "- Understanding the importance and limitations of automatic differentiation in finance.\n",
    "- Using tensorflow for option-pricing.\n",
    "- Difference with standard methods.\n",
    "\n",
    "\n",
    "\n"
   ]
  },
  {
   "cell_type": "markdown",
   "metadata": {},
   "source": [
    "## References\n",
    "- Savine, Antoine. Modern computational finance: AAD and parallel simulations. John Wiley & Sons, 2018."
   ]
  },
  {
   "cell_type": "code",
   "execution_count": 1,
   "metadata": {},
   "outputs": [],
   "source": [
    "import matplotlib.pyplot as plt\n",
    "import QuantLib as ql \n",
    "\n",
    "from abc import ABC, abstractmethod\n",
    "import tensorflow as tf\n",
    "import tensorflow_probability as tfp"
   ]
  },
  {
   "cell_type": "markdown",
   "metadata": {},
   "source": [
    "## Option Parameters"
   ]
  },
  {
   "cell_type": "code",
   "execution_count": 2,
   "metadata": {},
   "outputs": [],
   "source": [
    "class EuropeanOptionInstrument(ABC):\n",
    "    def __init__(self, strike_price, maturity, option_type):\n",
    "        self.strike_price = tf.Variable(strike_price, dtype=tf.float32)\n",
    "        self.maturity = tf.Variable(maturity, dtype=tf.float32)\n",
    "        self.option_type = option_type  # \"Call\" or \"Put\"\n",
    "\n",
    "    @abstractmethod\n",
    "    def calculate_payoff(self, market_price):\n",
    "        pass\n",
    "\n",
    "    @abstractmethod\n",
    "    def calculate_intrinsic_value(self, market_price):\n",
    "        pass\n",
    "\n",
    "    @abstractmethod\n",
    "    def calculate_time_value(self, market_price):\n",
    "        pass\n",
    "\n",
    "    def display_information(self):\n",
    "        print(f\"Strike Price: {self.strike_price}\")\n",
    "        print(f\"Maturity: {self.maturity} years\")\n",
    "        print(f\"Option Type: {self.option_type}\")\n",
    "\n",
    "    @property\n",
    "    @abstractmethod\n",
    "    def is_exercisable(self):\n",
    "        pass\n",
    "\n",
    "class EuropeanCallOption(EuropeanOptionInstrument):\n",
    "    def calculate_payoff(self, market_price):\n",
    "        return max(market_price - self.strike_price, 0)\n",
    "\n",
    "    def calculate_intrinsic_value(self, market_price):\n",
    "        return max(market_price - self.strike_price, 0)\n",
    "\n",
    "    def calculate_time_value(self, market_price):\n",
    "        intrinsic_value = self.calculate_intrinsic_value(market_price)\n",
    "        return max(0, market_price - intrinsic_value)\n",
    "\n",
    "    @property\n",
    "    def is_exercisable(self):\n",
    "        return True if self.maturity > 0 else False"
   ]
  },
  {
   "cell_type": "code",
   "execution_count": 3,
   "metadata": {},
   "outputs": [],
   "source": [
    "# Sample data\n",
    "spot_price = 100.0\n",
    "strike_price = 100.0\n",
    "maturity = 1.0\n",
    "option_type = \"Call\"\n",
    "risk_free_rate = 0.03\n",
    "volatility = 0.2"
   ]
  },
  {
   "cell_type": "markdown",
   "metadata": {},
   "source": [
    "## Closed functions"
   ]
  },
  {
   "cell_type": "code",
   "execution_count": 5,
   "metadata": {},
   "outputs": [],
   "source": [
    "class BlackScholesPricing:\n",
    "    \n",
    "    def __init__(self, option: EuropeanOptionInstrument, spot_price, risk_free_rate, volatility):\n",
    "        self.option = option\n",
    "        self.spot_price = tf.Variable(spot_price, dtype=tf.float32)\n",
    "        self.risk_free_rate = tf.Variable(risk_free_rate, dtype=tf.float32)\n",
    "        self.volatility = tf.Variable(volatility, dtype=tf.float32)\n",
    "\n",
    "    def calculate_option_price(self):\n",
    "        d1 = (tf.math.log(self.spot_price / self.option.strike_price) + (\n",
    "            self.risk_free_rate + (self.volatility ** 2) / 2) * self.option.maturity) / (self.volatility * tf.sqrt(self.option.maturity))\n",
    "        d2 = d1 - self.volatility * tf.sqrt(self.option.maturity)\n",
    "        dist = tfp.distributions.Normal(0,1)\n",
    "        call_option_price = self.spot_price * dist.cdf(d1) - self.option.strike_price * tf.exp(-self.risk_free_rate * self.option.maturity) * dist.cdf(d2)\n",
    "\n",
    "        return call_option_price if self.option.option_type == \"Call\" else call_option_price - (self.spot_price - self.option.strike_price)*tf.exp(-self.risk_free_rate * self.option.maturity)\n",
    "\n",
    "    def calculate_aad(self):\n",
    "        with tf.GradientTape() as tape:\n",
    "            tape.watch(self.spot_price)\n",
    "            tape.watch(self.risk_free_rate)\n",
    "            tape.watch(self.volatility)\n",
    "\n",
    "            option_price = self.calculate_option_price()\n",
    "\n",
    "        aad_greeks = tape.gradient(option_price, [self.spot_price, self.volatility, self.risk_free_rate ])\n",
    "        #vega = tape.gradient(option_price, self.volatility)\n",
    "\n",
    "        return option_price, aad_greeks\n",
    "    \n",
    "    def calculate_aad_xla(self):\n",
    "        # Apply XLA compilation to the gradient calculation\n",
    "        @tf.function(jit_compile=True)\n",
    "        def compute_gradients():\n",
    "            with tf.GradientTape() as tape:\n",
    "                tape.watch(self.spot_price)\n",
    "                tape.watch(self.risk_free_rate)\n",
    "                tape.watch(self.volatility)\n",
    "\n",
    "                option_price = self.calculate_option_price()\n",
    "\n",
    "            #delta = tape.gradient(option_price, self.spot_price)\n",
    "            aad_greeks = tape.gradient(option_price, [self.spot_price, self.volatility, self.risk_free_rate ])\n",
    "            return option_price, aad_greeks\n",
    "\n",
    "        return compute_gradients()    "
   ]
  },
  {
   "cell_type": "markdown",
   "metadata": {},
   "source": [
    "## Montecarlo simulation"
   ]
  },
  {
   "cell_type": "code",
   "execution_count": 6,
   "metadata": {},
   "outputs": [],
   "source": [
    "class EuropeanKernel:\n",
    "    \n",
    "    def __init__(self, option, spot_price, mu, sigma, z):\n",
    "        self.option = option\n",
    "        self.spot_price = tf.Variable(spot_price, dtype=tf.float32)\n",
    "        self.mu = tf.Variable(mu, dtype=tf.float32)\n",
    "        self.sigma = tf.Variable(sigma, dtype=tf.float32)\n",
    "        self.z = z\n",
    "\n",
    "\n",
    "    def calculate_option_price(self):\n",
    "        dt = self.option.maturity / self.z.shape[1]\n",
    "        dt_sqrt = tf.math.sqrt(dt)\n",
    "        diffusion = self.sigma * dt_sqrt\n",
    "        drift = (self.mu - (self.sigma ** 2) / 2)\n",
    "        gbm = tf.math.exp(drift * dt + diffusion * self.z)\n",
    "        s_t = self.spot_price * tf.math.cumprod(gbm, axis=1)\n",
    "\n",
    "        payoff = tf.math.maximum(s_t[:, -1] - self.option.strike_price, 0)\n",
    "        return tf.exp(-self.mu * self.option.maturity) * tf.reduce_mean(payoff)\n",
    "    \n",
    "    def calculate_option_price_xla(self):\n",
    "        @tf.function(jit_compile = True)\n",
    "        def compute_price():\n",
    "            dt = self.option.maturity / self.z.shape[1]\n",
    "            dt_sqrt = tf.math.sqrt(dt)\n",
    "            diffusion = self.sigma * dt_sqrt\n",
    "            drift = (self.mu - (self.sigma ** 2) / 2)\n",
    "            gbm = tf.math.exp(drift * dt + diffusion * self.z)\n",
    "            s_t = self.spot_price * tf.math.cumprod(gbm, axis=1)\n",
    "\n",
    "            payoff = tf.math.maximum(s_t[:, -1] - self.option.strike_price, 0)\n",
    "            return tf.exp(-self.mu * self.option.maturity) * tf.reduce_mean(payoff)\n",
    "        return compute_price()\n",
    "\n",
    "\n",
    "    def calculate_aad(self):\n",
    "        with tf.GradientTape() as tape:\n",
    "            option_price = self.calculate_option_price()\n",
    "\n",
    "        aad_greeks = tape.gradient(option_price, [self.spot_price, self.sigma, self.mu])\n",
    "\n",
    "        return option_price, aad_greeks\n",
    "    \n",
    "\n",
    "    def calculate_aad_xla(self):\n",
    "        @tf.function(jit_compile=True)\n",
    "        def compute_gradients():\n",
    "            with tf.GradientTape() as tape:\n",
    "                option_price = self.calculate_option_price()\n",
    "\n",
    "            aad_greeks = tape.gradient(option_price, [self.spot_price, self.sigma, self.mu])\n",
    "\n",
    "            return option_price, aad_greeks\n",
    "\n",
    "        return compute_gradients()"
   ]
  },
  {
   "cell_type": "markdown",
   "metadata": {},
   "source": [
    "## AAD with closed form pricing"
   ]
  },
  {
   "cell_type": "code",
   "execution_count": 7,
   "metadata": {},
   "outputs": [
    {
     "name": "stdout",
     "output_type": "stream",
     "text": [
      "Call Option Price: 9.413406372070312\n",
      "******************************\n",
      "Black AAD: \n",
      "Price:  9.413406\n",
      "Delta: 0.5987063646316528\n",
      "Vega: 38.666812896728516\n",
      "Rho: 50.45722961425781\n",
      "******************************\n"
     ]
    }
   ],
   "source": [
    "# Create an instrument-object for the European Call Option \n",
    "call_option = EuropeanCallOption(strike_price, maturity, option_type)\n",
    "# Create an engine-object for the Black-Scholes model\n",
    "bs_engine = BlackScholesPricing(call_option, spot_price, risk_free_rate, volatility)\n",
    "# Calculate the call option price\n",
    "call_option_price = bs_engine.calculate_option_price()\n",
    "print(f\"Call Option Price: {call_option_price.numpy()}\")\n",
    "print(\"*\"*30)\n",
    "# Calculate Delta and Vega using automatic differentiation\n",
    "price, sensy = bs_engine.calculate_aad()\n",
    "print(\"Black AAD: \")\n",
    "print(\"Price: \", price.numpy())\n",
    "print(f\"Delta: {sensy[0].numpy()}\")\n",
    "print(f\"Vega: {sensy[1].numpy()}\")\n",
    "print(f\"Rho: {sensy[2].numpy()}\")\n",
    "print(\"*\"*30)\n"
   ]
  },
  {
   "cell_type": "markdown",
   "metadata": {},
   "source": [
    "## AAD with Montecarlo simulation"
   ]
  },
  {
   "cell_type": "code",
   "execution_count": 8,
   "metadata": {},
   "outputs": [],
   "source": [
    "n_path = 20000\n",
    "timesteps = 100\n",
    "z = tf.random.normal((n_path, timesteps), seed=12)\n",
    "\n",
    "mc_engine = EuropeanKernel(call_option, spot_price, risk_free_rate, volatility, z)"
   ]
  },
  {
   "cell_type": "code",
   "execution_count": 9,
   "metadata": {},
   "outputs": [
    {
     "name": "stdout",
     "output_type": "stream",
     "text": [
      "Call Option MC Price: 9.448568344116211\n",
      "******************************\n",
      "Black AAD MC: \n",
      "Price:  9.448568\n",
      "Delta: 0.5953810811042786\n",
      "Vega: 38.992950439453125\n",
      "Rho: 50.08954620361328\n",
      "******************************\n"
     ]
    }
   ],
   "source": [
    "call_option_price = mc_engine.calculate_option_price()\n",
    "print(f\"Call Option MC Price: {call_option_price.numpy()}\")\n",
    "print(\"*\"*30)\n",
    "# Calculate Delta and Vega using automatic differentiation\n",
    "price, sensy = mc_engine.calculate_aad()\n",
    "print(\"Black AAD MC: \")\n",
    "print(\"Price: \", price.numpy())\n",
    "print(f\"Delta: {sensy[0].numpy()}\")\n",
    "print(f\"Vega: {sensy[1].numpy()}\")\n",
    "print(f\"Rho: {sensy[2].numpy()}\")\n",
    "print(\"*\"*30)"
   ]
  },
  {
   "cell_type": "markdown",
   "metadata": {},
   "source": [
    "## Analytic form for AD"
   ]
  },
  {
   "cell_type": "code",
   "execution_count": null,
   "metadata": {},
   "outputs": [],
   "source": []
  }
 ],
 "metadata": {
  "kernelspec": {
   "display_name": "Python 3",
   "language": "python",
   "name": "python3"
  },
  "language_info": {
   "codemirror_mode": {
    "name": "ipython",
    "version": 3
   },
   "file_extension": ".py",
   "mimetype": "text/x-python",
   "name": "python",
   "nbconvert_exporter": "python",
   "pygments_lexer": "ipython3",
   "version": "3.10.7"
  }
 },
 "nbformat": 4,
 "nbformat_minor": 2
}
