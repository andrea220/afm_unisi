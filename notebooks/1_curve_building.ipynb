{
 "cells": [
  {
   "cell_type": "markdown",
   "id": "943cd194",
   "metadata": {},
   "source": [
    "![Logo dell'Università XYZ](img/logo.jpg)"
   ]
  },
  {
   "cell_type": "markdown",
   "id": "e2f7069d",
   "metadata": {},
   "source": [
    "# Advanced Financial Modeling Course\n",
    "\n",
    "## Introduction\n",
    "\n",
    "This notebook is part of the teaching material of the Advanced Financial Modeling course! In this series of Jupyter notebooks, we will cover various topics related to financial modeling, including fundamental concepts, practical applications, and hands-on exercises.\n",
    "\n",
    "### Notebooks Overview\n",
    "\n",
    "1. [Notebook 1: Curve Building](notebooks/notebook1.ipynb)\n",
    "2. [Notebook 2: AAD Greeks](notebooks/notebook2.ipynb)\n",
    "3. [Notebook 3: Swap AAD Sensitivities](notebooks/notebook3.ipynb)\n",
    "3. [Notebook 4: Simulation of Extended Short-Rate Models](notebooks/notebook3.ipynb)\n",
    "4. [Notebook 5: Model Calibration](notebooks/notebook4.ipynb)\n",
    "5. [Notebook 6: SABR stochastic volatility](notebooks/notebook5.ipynb)\n",
    "5. [Notebook 7: xVA--CCR simulation](notebooks/notebook5.ipynb)\n",
    "\n",
    "\n",
    "## Notebook 1: Curve Building \n",
    "\n",
    "This notebook provides an in-depth exploration of curve building in the context of interest rate modeling. We'll cover fundamental concepts and techniques for constructing interest rate curves, with a practical example focused on the EUR market.\n",
    "\n",
    "### Topics Covered\n",
    "\n",
    "- Understanding interest rate curves and their significance in financial modeling.\n",
    "- Utilizing QuantLib library to handle financial data and perform curve building tasks.\n",
    "- Principles of discounting and forwarding, essential for curve construction and valuation.\n",
    "- Interpolation methods for smoothing and extrapolating curve data.\n",
    "\n",
    "\n"
   ]
  },
  {
   "cell_type": "markdown",
   "id": "85f499f0",
   "metadata": {},
   "source": [
    "## References\n",
    "- Balaraman, G., and Ballabio, L. . Quantlib Python Cookbook (2019)\n",
    "- Ametrano, F. M., and Bianchetti, M. (2013). Everything you always wanted to know about multiple interest rate curve bootstrapping but were afraid to ask. Available at SSRN 2219548."
   ]
  },
  {
   "cell_type": "markdown",
   "id": "331c3537",
   "metadata": {},
   "source": [
    "## Import Libraries"
   ]
  },
  {
   "cell_type": "code",
   "execution_count": 1,
   "id": "b5c8baec",
   "metadata": {},
   "outputs": [],
   "source": [
    "import QuantLib as ql\n",
    "import matplotlib \n",
    "import matplotlib.pyplot as plt\n",
    "import pandas as pd\n",
    "matplotlib.rcParams['font.family'] = 'serif'"
   ]
  },
  {
   "cell_type": "markdown",
   "id": "01ccc514",
   "metadata": {},
   "source": [
    "## Load market data"
   ]
  },
  {
   "cell_type": "code",
   "execution_count": 3,
   "id": "65560153",
   "metadata": {},
   "outputs": [],
   "source": [
    "today = ql.Date(22, ql.February, 2023)\n",
    "daycounter = ql.ActualActual()\n",
    "ql.Settings.instance().evaluationDate = today\n",
    "estr_curve_df = pd.read_excel('data/curve_EUR_20230222.xlsx', sheet_name=0)\n",
    "eur6m_curve_df = pd.read_excel('data/curve_EUR_20230222.xlsx', sheet_name=1)"
   ]
  },
  {
   "cell_type": "markdown",
   "id": "a6442ef2",
   "metadata": {},
   "source": [
    "## Build a discount curve"
   ]
  },
  {
   "cell_type": "markdown",
   "id": "3cd70a2d",
   "metadata": {},
   "source": [
    "The first three instruments are three **1-day deposit** that give us discounting between today and the\n",
    "day after spot. They are modeled by three instances of the DepositRateHelper class with a tenor of\n",
    "1 day and a number of fixing days going from 0 (for the deposit starting today) to 2 (for the deposit\n",
    "starting on the spot date). <br>\n",
    "Then, we have a series of **OIS quotes** for 1W tenors up to 60Y. They are modeled by instances of the\n",
    "_OISRateHelper_ class with varying tenors. They also require an instance of the _Estr_, which\n",
    "doesn’t need a forecast (estimation/forwarding) curve and can be shared between the helpers"
   ]
  },
  {
   "cell_type": "code",
   "execution_count": 4,
   "id": "93a6c78f",
   "metadata": {},
   "outputs": [
    {
     "data": {
      "text/html": [
       "<div>\n",
       "<style scoped>\n",
       "    .dataframe tbody tr th:only-of-type {\n",
       "        vertical-align: middle;\n",
       "    }\n",
       "\n",
       "    .dataframe tbody tr th {\n",
       "        vertical-align: top;\n",
       "    }\n",
       "\n",
       "    .dataframe thead th {\n",
       "        text-align: right;\n",
       "    }\n",
       "</style>\n",
       "<table border=\"1\" class=\"dataframe\">\n",
       "  <thead>\n",
       "    <tr style=\"text-align: right;\">\n",
       "      <th></th>\n",
       "      <th>Tp</th>\n",
       "      <th>Start date</th>\n",
       "      <th>Generator</th>\n",
       "      <th>Maturity</th>\n",
       "      <th>Maturity.1</th>\n",
       "      <th>ds.factor</th>\n",
       "      <th>ds.rate</th>\n",
       "      <th>Market quote</th>\n",
       "      <th>Curve spread</th>\n",
       "      <th>Selected</th>\n",
       "    </tr>\n",
       "  </thead>\n",
       "  <tbody>\n",
       "    <tr>\n",
       "      <th>0</th>\n",
       "      <td>Dp</td>\n",
       "      <td>2023-02-22</td>\n",
       "      <td>DEPO ESTR_C</td>\n",
       "      <td>2023-02-23</td>\n",
       "      <td>O/N</td>\n",
       "      <td>0.999933</td>\n",
       "      <td>2.433252</td>\n",
       "      <td>2.400000</td>\n",
       "      <td>0</td>\n",
       "      <td>Y</td>\n",
       "    </tr>\n",
       "    <tr>\n",
       "      <th>1</th>\n",
       "      <td>Dp</td>\n",
       "      <td>2023-02-23</td>\n",
       "      <td>DEPO ESTR_C</td>\n",
       "      <td>2023-02-24</td>\n",
       "      <td>T/N</td>\n",
       "      <td>0.999867</td>\n",
       "      <td>2.433252</td>\n",
       "      <td>2.400000</td>\n",
       "      <td>0</td>\n",
       "      <td>Y</td>\n",
       "    </tr>\n",
       "    <tr>\n",
       "      <th>2</th>\n",
       "      <td>Dp</td>\n",
       "      <td>2023-02-24</td>\n",
       "      <td>DEPO ESTR_C</td>\n",
       "      <td>2023-02-27</td>\n",
       "      <td>S/N</td>\n",
       "      <td>0.999667</td>\n",
       "      <td>2.433115</td>\n",
       "      <td>2.399934</td>\n",
       "      <td>0</td>\n",
       "      <td>Y</td>\n",
       "    </tr>\n",
       "    <tr>\n",
       "      <th>3</th>\n",
       "      <td>Sw</td>\n",
       "      <td>2023-02-24</td>\n",
       "      <td>SWP ESTR DISC_C</td>\n",
       "      <td>2023-03-03</td>\n",
       "      <td>1W</td>\n",
       "      <td>0.999400</td>\n",
       "      <td>2.432874</td>\n",
       "      <td>2.400000</td>\n",
       "      <td>0</td>\n",
       "      <td>Y</td>\n",
       "    </tr>\n",
       "    <tr>\n",
       "      <th>4</th>\n",
       "      <td>Sw</td>\n",
       "      <td>2023-02-24</td>\n",
       "      <td>SWP ESTR DISC_C</td>\n",
       "      <td>2023-03-10</td>\n",
       "      <td>2W</td>\n",
       "      <td>0.998934</td>\n",
       "      <td>2.432330</td>\n",
       "      <td>2.400000</td>\n",
       "      <td>0</td>\n",
       "      <td>Y</td>\n",
       "    </tr>\n",
       "    <tr>\n",
       "      <th>...</th>\n",
       "      <td>...</td>\n",
       "      <td>...</td>\n",
       "      <td>...</td>\n",
       "      <td>...</td>\n",
       "      <td>...</td>\n",
       "      <td>...</td>\n",
       "      <td>...</td>\n",
       "      <td>...</td>\n",
       "      <td>...</td>\n",
       "      <td>...</td>\n",
       "    </tr>\n",
       "    <tr>\n",
       "      <th>57</th>\n",
       "      <td>Sw</td>\n",
       "      <td>2023-02-24</td>\n",
       "      <td>SWP ESTR DISC_C</td>\n",
       "      <td>2053-02-24</td>\n",
       "      <td>30Y</td>\n",
       "      <td>0.483102</td>\n",
       "      <td>2.422881</td>\n",
       "      <td>2.521000</td>\n",
       "      <td>0</td>\n",
       "      <td>Y</td>\n",
       "    </tr>\n",
       "    <tr>\n",
       "      <th>58</th>\n",
       "      <td>Sw</td>\n",
       "      <td>2023-02-24</td>\n",
       "      <td>SWP ESTR DISC_C</td>\n",
       "      <td>2058-02-25</td>\n",
       "      <td>35Y</td>\n",
       "      <td>0.444889</td>\n",
       "      <td>2.311915</td>\n",
       "      <td>2.430628</td>\n",
       "      <td>0</td>\n",
       "      <td>Y</td>\n",
       "    </tr>\n",
       "    <tr>\n",
       "      <th>59</th>\n",
       "      <td>Sw</td>\n",
       "      <td>2023-02-24</td>\n",
       "      <td>SWP ESTR DISC_C</td>\n",
       "      <td>2063-02-26</td>\n",
       "      <td>40Y</td>\n",
       "      <td>0.409805</td>\n",
       "      <td>2.228047</td>\n",
       "      <td>2.362000</td>\n",
       "      <td>0</td>\n",
       "      <td>Y</td>\n",
       "    </tr>\n",
       "    <tr>\n",
       "      <th>60</th>\n",
       "      <td>Sw</td>\n",
       "      <td>2023-02-24</td>\n",
       "      <td>SWP ESTR DISC_C</td>\n",
       "      <td>2073-02-24</td>\n",
       "      <td>50Y</td>\n",
       "      <td>0.355716</td>\n",
       "      <td>2.065547</td>\n",
       "      <td>2.235000</td>\n",
       "      <td>0</td>\n",
       "      <td>Y</td>\n",
       "    </tr>\n",
       "    <tr>\n",
       "      <th>61</th>\n",
       "      <td>Sw</td>\n",
       "      <td>2023-02-24</td>\n",
       "      <td>SWP ESTR DISC_C</td>\n",
       "      <td>2083-02-24</td>\n",
       "      <td>60Y</td>\n",
       "      <td>0.317691</td>\n",
       "      <td>1.909644</td>\n",
       "      <td>2.118000</td>\n",
       "      <td>0</td>\n",
       "      <td>Y</td>\n",
       "    </tr>\n",
       "  </tbody>\n",
       "</table>\n",
       "<p>62 rows × 10 columns</p>\n",
       "</div>"
      ],
      "text/plain": [
       "    Tp Start date        Generator   Maturity Maturity.1  ds.factor   ds.rate  \\\n",
       "0   Dp 2023-02-22      DEPO ESTR_C 2023-02-23        O/N   0.999933  2.433252   \n",
       "1   Dp 2023-02-23      DEPO ESTR_C 2023-02-24        T/N   0.999867  2.433252   \n",
       "2   Dp 2023-02-24      DEPO ESTR_C 2023-02-27        S/N   0.999667  2.433115   \n",
       "3   Sw 2023-02-24  SWP ESTR DISC_C 2023-03-03         1W   0.999400  2.432874   \n",
       "4   Sw 2023-02-24  SWP ESTR DISC_C 2023-03-10         2W   0.998934  2.432330   \n",
       "..  ..        ...              ...        ...        ...        ...       ...   \n",
       "57  Sw 2023-02-24  SWP ESTR DISC_C 2053-02-24        30Y   0.483102  2.422881   \n",
       "58  Sw 2023-02-24  SWP ESTR DISC_C 2058-02-25        35Y   0.444889  2.311915   \n",
       "59  Sw 2023-02-24  SWP ESTR DISC_C 2063-02-26        40Y   0.409805  2.228047   \n",
       "60  Sw 2023-02-24  SWP ESTR DISC_C 2073-02-24        50Y   0.355716  2.065547   \n",
       "61  Sw 2023-02-24  SWP ESTR DISC_C 2083-02-24        60Y   0.317691  1.909644   \n",
       "\n",
       "    Market quote  Curve spread Selected  \n",
       "0       2.400000             0        Y  \n",
       "1       2.400000             0        Y  \n",
       "2       2.399934             0        Y  \n",
       "3       2.400000             0        Y  \n",
       "4       2.400000             0        Y  \n",
       "..           ...           ...      ...  \n",
       "57      2.521000             0        Y  \n",
       "58      2.430628             0        Y  \n",
       "59      2.362000             0        Y  \n",
       "60      2.235000             0        Y  \n",
       "61      2.118000             0        Y  \n",
       "\n",
       "[62 rows x 10 columns]"
      ]
     },
     "execution_count": 4,
     "metadata": {},
     "output_type": "execute_result"
    }
   ],
   "source": [
    "estr_curve_df"
   ]
  },
  {
   "cell_type": "code",
   "execution_count": 5,
   "id": "77716920",
   "metadata": {},
   "outputs": [],
   "source": [
    "deposit_quotes = estr_curve_df[estr_curve_df['Tp'] == 'Dp']['Market quote']/100\n",
    "ois_quotes = estr_curve_df[estr_curve_df['Tp']== 'Sw'][['Maturity.1', 'Market quote']]\n",
    "\n",
    "helpers = [\n",
    "            ql.DepositRateHelper(ql.QuoteHandle(ql.SimpleQuote(rate)),\n",
    "            ql.Period(1,ql.Days), fixingDays,\n",
    "            ql.TARGET(), ql.Following,\n",
    "            False, ql.Actual360())\n",
    "            for rate, fixingDays in [(deposit_quotes[0], 0), (deposit_quotes[1], 1), (deposit_quotes[2], 2)]\n",
    "            ]\n",
    "\n",
    "\n",
    "estr = ql.Estr() # indexed to Estr Risk-Free-Rate\n",
    "for i in range(len(ois_quotes)):\n",
    "    tenor = ql.Period(ois_quotes.iloc[i,:]['Maturity.1'])\n",
    "    rate = ois_quotes.iloc[i,:]['Market quote']/100\n",
    "    helpers += [ql.OISRateHelper(2, tenor,ql.QuoteHandle(ql.SimpleQuote(rate)), estr)]\n",
    "    "
   ]
  },
  {
   "cell_type": "code",
   "execution_count": 6,
   "id": "7c680541",
   "metadata": {},
   "outputs": [],
   "source": [
    "estr_curve_c = ql.PiecewiseLogCubicDiscount(0, ql.TARGET(),helpers, ql.Actual365Fixed())\n",
    "estr_curve_c.enableExtrapolation()"
   ]
  },
  {
   "cell_type": "code",
   "execution_count": 7,
   "id": "820e6520",
   "metadata": {},
   "outputs": [],
   "source": [
    "today = estr_curve_c.referenceDate()\n",
    "end = today + ql.Period(30,ql.Years)\n",
    "\n",
    "dates = [ ql.Date(serial) for serial in range(today.serialNumber(),end.serialNumber()+1) ] # just a list of dates\n",
    "taus = [daycounter.yearFraction(today, d) for d in dates] # array of tau (in years)\n",
    "\n",
    "\n",
    "estr_fwd_curve = [ estr_curve_c.forwardRate(d, ql.TARGET().advance(d,1,ql.Days), ql.Actual360(), ql.Simple).rate()\n",
    "                    for d in dates ]\n",
    "estr_zero_curve = [ estr_curve_c.zeroRate(d, ql.Actual360(), ql.Simple).rate()\n",
    "                    for d in dates ]"
   ]
  },
  {
   "cell_type": "markdown",
   "id": "f55fb0e3",
   "metadata": {},
   "source": [
    "# Impact of Interpolation "
   ]
  },
  {
   "cell_type": "markdown",
   "id": "c8850457",
   "metadata": {},
   "source": [
    "Consider 3 different QuantLib-curve objects using 3 different interpolation functions, _PiecewiseLinearZero_, _PiecewiseFlatForward_ and the _PiecewiseLogCubicDiscount_ (created before)"
   ]
  },
  {
   "cell_type": "code",
   "execution_count": 8,
   "id": "898e6054",
   "metadata": {},
   "outputs": [],
   "source": [
    "estr_curve_lin = ql.PiecewiseLinearZero(0, ql.TARGET(),helpers, ql.Actual365Fixed())\n",
    "estr_curve_lin.enableExtrapolation()\n",
    "\n",
    "estr_curve_flat = ql.PiecewiseFlatForward(0, ql.TARGET(),helpers, ql.Actual365Fixed())\n",
    "estr_curve_flat.enableExtrapolation()\n",
    "\n",
    "today = estr_curve_c.referenceDate()\n",
    "end = today + ql.Period(30,ql.Years)\n",
    "\n",
    "dates = [ ql.Date(serial) for serial in range(today.serialNumber(),end.serialNumber()+1) ] # just a list of dates\n",
    "taus = [daycounter.yearFraction(today, d) for d in dates] # array of tau (in years)\n",
    "\n",
    "### forward curves \n",
    "# use the previous instances of the 3 curves to build 3 array of forward rates (3 forward curves with observations in taus)\n",
    "estr_fwd_curve = [ estr_curve_c.forwardRate(d, ql.TARGET().advance(d,1,ql.Days), ql.Actual360(), ql.Simple).rate()\n",
    "                    for d in dates ]\n",
    "\n",
    "estr_fwd_curve_lin = [ estr_curve_lin.forwardRate(d, ql.TARGET().advance(d,1,ql.Days), ql.Actual360(), ql.Simple).rate()\n",
    "                    for d in dates ]\n",
    "\n",
    "estr_fwd_curve_flat = [ estr_curve_flat.forwardRate(d, ql.TARGET().advance(d,1,ql.Days), ql.Actual360(), ql.Simple).rate()\n",
    "                    for d in dates ]\n",
    "\n",
    "\n",
    "### zero curves\n",
    "# use the previous instances of the 3 curves to build 3 array of zero rates (3 forward curves with observations in taus)\n",
    "estr_zero_curve = [ estr_curve_c.zeroRate(d, ql.Actual360(), ql.Simple).rate()\n",
    "                    for d in dates ]\n",
    "estr_zero_curve_lin = [ estr_curve_lin.zeroRate(d, ql.Actual360(), ql.Simple).rate()\n",
    "                    for d in dates ]\n",
    "estr_zero_curve_flat = [ estr_curve_flat.zeroRate(d, ql.Actual360(), ql.Simple).rate()\n",
    "                    for d in dates ]"
   ]
  },
  {
   "cell_type": "markdown",
   "id": "0fd599a2",
   "metadata": {},
   "source": [
    "Let's plot our discount curve! Interpolation does not matter"
   ]
  },
  {
   "cell_type": "code",
   "execution_count": 9,
   "id": "2ca7053c",
   "metadata": {},
   "outputs": [
    {
     "data": {
      "image/png": "[encoded data removed]",
      "text/plain": [
       "<Figure size 640x480 with 1 Axes>"
      ]
     },
     "metadata": {},
     "output_type": "display_data"
    }
   ],
   "source": [
    "plt.plot(taus, estr_zero_curve, label = 'LogCubic')\n",
    "plt.plot(taus, estr_zero_curve_lin, label = 'Linear')\n",
    "plt.plot(taus, estr_zero_curve_flat, label = 'FlatForward')\n",
    "plt.legend()\n",
    "plt.grid(True)\n",
    "plt.xlabel('Time in years $T_i$')\n",
    "plt.ylabel('L(0,$T_i$)')\n",
    "plt.show()"
   ]
  },
  {
   "cell_type": "markdown",
   "id": "f11e554f",
   "metadata": {},
   "source": [
    "Well... yes... but actually NO <br>\n",
    "let's see forward rates"
   ]
  },
  {
   "cell_type": "code",
   "execution_count": 10,
   "id": "c2d2ecc2",
   "metadata": {},
   "outputs": [
    {
     "data": {
      "image/png": "[encoded data removed]",
      "text/plain": [
       "<Figure size 640x480 with 1 Axes>"
      ]
     },
     "metadata": {},
     "output_type": "display_data"
    }
   ],
   "source": [
    "plt.plot(taus, estr_fwd_curve_lin, label = 'Linear')\n",
    "plt.plot(taus, estr_fwd_curve_flat, label = 'FlatForward')\n",
    "plt.legend()\n",
    "plt.grid(True)\n",
    "plt.xlabel('Time in years $T_i$')\n",
    "plt.ylabel('f(0,$T_i$)')\n",
    "plt.show()"
   ]
  },
  {
   "cell_type": "code",
   "execution_count": 11,
   "id": "0b91533a",
   "metadata": {},
   "outputs": [
    {
     "data": {
      "image/png": "[encoded data removed]",
      "text/plain": [
       "<Figure size 640x480 with 1 Axes>"
      ]
     },
     "metadata": {},
     "output_type": "display_data"
    }
   ],
   "source": [
    "plt.plot(taus, estr_fwd_curve, label = 'LogCubic')\n",
    "plt.legend()\n",
    "plt.grid(True)\n",
    "plt.xlabel('Time in years $T_i$')\n",
    "plt.ylabel('F(0,$T_i$)')\n",
    "plt.show()"
   ]
  },
  {
   "cell_type": "markdown",
   "id": "13943551",
   "metadata": {},
   "source": [
    "The short end of the curve is extrapolated backwards from the first quoted pillar at 6 months, this is not quite correct. This leads to oscillations as soon as the curve\n",
    "is out of the tight strip of FRA quotes. <br>\n",
    "One way to correct this is to add **synthetic deposits** with short tenors. <br>\n",
    "However, this topic won't be covered in this course, if you want you can check: F. M. Ametrano and M. Bianchetti,\n",
    "Everything You Always Wanted to Know About Multiple Interest Rate Curve Bootstrapping but Were\n",
    "Afraid to Ask (April 2, 2013). The paper is available at SSRN: http://ssrn.com/abstract=2219548."
   ]
  },
  {
   "cell_type": "markdown",
   "id": "7bea11f8",
   "metadata": {},
   "source": [
    "## Estimation Curve (Forwarding)"
   ]
  },
  {
   "cell_type": "markdown",
   "id": "d08fc94d",
   "metadata": {},
   "source": [
    "Now consider the 6-months EUR curve. cambiare inizio della curva"
   ]
  },
  {
   "cell_type": "code",
   "execution_count": 12,
   "id": "72fec856",
   "metadata": {},
   "outputs": [],
   "source": [
    "helpers = [\n",
    "            ql.DepositRateHelper(ql.QuoteHandle(ql.SimpleQuote(2.7729/100)),\n",
    "                                ql.Period(2,ql.Months), 3, ql.TARGET(), ql.Following, False, ql.Actual360()),\n",
    "            ql.DepositRateHelper(ql.QuoteHandle(ql.SimpleQuote(3.0292/100)),\n",
    "                                ql.Period(4,ql.Months), 3, ql.TARGET(), ql.Following, False, ql.Actual360()),\n",
    "            ql.DepositRateHelper(ql.QuoteHandle(ql.SimpleQuote(3.2480/100)),\n",
    "                                ql.Period(6,ql.Months), 3, ql.TARGET(), ql.Following, False, ql.Actual360())\n",
    "            ]"
   ]
  },
  {
   "cell_type": "code",
   "execution_count": 13,
   "id": "89457422",
   "metadata": {},
   "outputs": [],
   "source": [
    "euribor6m = ql.Euribor6M()"
   ]
  },
  {
   "cell_type": "markdown",
   "id": "ef5401f6",
   "metadata": {},
   "source": [
    "Then comes a strip of 6-months FRA up to 2 years maturity:"
   ]
  },
  {
   "cell_type": "code",
   "execution_count": 14,
   "id": "55397edd",
   "metadata": {},
   "outputs": [],
   "source": [
    "fra_quotes = eur6m_curve_df[eur6m_curve_df['Tp']== 'Fr'][['Maturity.1', 'Market quote']]\n",
    "f_rates = fra_quotes['Market quote'].values"
   ]
  },
  {
   "cell_type": "code",
   "execution_count": 15,
   "id": "030b999d",
   "metadata": {},
   "outputs": [],
   "source": [
    "helpers += [\n",
    "            ql.FraRateHelper(ql.QuoteHandle(ql.SimpleQuote(rate/100)), start, euribor6m)\n",
    "            for rate, start in [(f_rates[0], 1), (f_rates[1], 2), (f_rates[2], 3),\n",
    "                                (f_rates[3], 4), (f_rates[4], 5), (f_rates[5], 6),\n",
    "                                (f_rates[6], 7), (f_rates[7], 8), (f_rates[8], 9),\n",
    "                                (f_rates[9], 10), (f_rates[10], 11), (f_rates[11], 12),\n",
    "                                (f_rates[12], 13), (f_rates[13], 14), (f_rates[14], 15),\n",
    "                                (f_rates[15], 16), (f_rates[16], 17), (f_rates[17], 18), (f_rates[18], 24)]\n",
    "            ]"
   ]
  },
  {
   "cell_type": "code",
   "execution_count": 16,
   "id": "003f9d89",
   "metadata": {},
   "outputs": [],
   "source": [
    "discount_curve = ql.RelinkableYieldTermStructureHandle()\n",
    "discount_curve.linkTo(estr_curve_c)"
   ]
  },
  {
   "cell_type": "markdown",
   "id": "235a9c3f",
   "metadata": {},
   "source": [
    "Finally, we have a series of swap rates with maturities from 3 to 60 years. <br>\n",
    "The curve being bootstrapped **will be used only for forecasting** the 6-months Euribor\n",
    "fixings paid by the floating leg. <br>\n",
    "**All the payments will be discounted by means of the OIS curve**, which\n",
    "is wrapped in a Handle and passed as an extra argument to the SwapRateHelper constructor."
   ]
  },
  {
   "cell_type": "code",
   "execution_count": 17,
   "id": "4475c076",
   "metadata": {},
   "outputs": [],
   "source": [
    "swap_quotes = eur6m_curve_df[eur6m_curve_df['Tp']== 'Sw'][['Maturity.1', 'Market quote']]"
   ]
  },
  {
   "cell_type": "code",
   "execution_count": 18,
   "id": "fb7a3f76",
   "metadata": {},
   "outputs": [],
   "source": [
    "helpers += [\n",
    "            ql.SwapRateHelper(ql.QuoteHandle(ql.SimpleQuote(rate/100)),\n",
    "            ql.Period(tenor, ql.Years), ql.TARGET(),\n",
    "            ql.Annual, ql.Unadjusted,\n",
    "            ql.Thirty360(ql.Thirty360.BondBasis),\n",
    "            euribor6m, ql.QuoteHandle(), ql.Period(0, ql.Days),\n",
    "            discount_curve)\n",
    "            for rate, tenor in [(3.422, 3), (3.299, 4), (3.22, 5),\n",
    "                                (3.168, 6), (3.13, 7), (3.112, 8),\n",
    "                                (3.103, 9), (3.099, 10), (3.093, 12),\n",
    "                                (3.061, 15), (2.901, 20), (2.721, 25),\n",
    "                                (2.563, 30), (2.44, 35), (2.333, 40),\n",
    "                                (2.155, 50), (2.021, 60)]\n",
    "            ]"
   ]
  },
  {
   "cell_type": "code",
   "execution_count": 19,
   "id": "685a4306",
   "metadata": {},
   "outputs": [],
   "source": [
    "euribor6m_curve = ql.PiecewiseLogCubicDiscount(2, ql.TARGET(), helpers,ql.Actual365Fixed())\n",
    "euribor6m_curve.enableExtrapolation()"
   ]
  },
  {
   "cell_type": "code",
   "execution_count": 20,
   "id": "72aabe25",
   "metadata": {},
   "outputs": [],
   "source": [
    "## zero curve\n",
    "eur6m_zero_curve = [ euribor6m_curve.zeroRate(d, ql.Actual360(), ql.Simple).rate()\n",
    "                    for d in dates[3:] ]"
   ]
  },
  {
   "cell_type": "code",
   "execution_count": 21,
   "id": "21243898",
   "metadata": {},
   "outputs": [
    {
     "data": {
      "image/png": "[encoded data removed]",
      "text/plain": [
       "<Figure size 640x480 with 1 Axes>"
      ]
     },
     "metadata": {},
     "output_type": "display_data"
    }
   ],
   "source": [
    "plt.plot(taus[3:], eur6m_zero_curve, label = 'EUR6M - zero rates')\n",
    "plt.legend()\n",
    "plt.xlabel('Time in years $T_i$')\n",
    "plt.ylabel('L(0,$T_i$)')\n",
    "plt.show()"
   ]
  },
  {
   "cell_type": "markdown",
   "id": "396e2d57",
   "metadata": {},
   "source": [
    "# Swap Pricing Example"
   ]
  },
  {
   "cell_type": "code",
   "execution_count": 22,
   "id": "6b3465a5",
   "metadata": {},
   "outputs": [],
   "source": [
    "def makeSwap(start, maturity, nominal, fixedRate, index, typ=ql.VanillaSwap.Payer):\n",
    "    end = ql.TARGET().advance(start, maturity)\n",
    "    fixedLegTenor = ql.Period(\"6M\")\n",
    "    fixedLegBDC = ql.ModifiedFollowing\n",
    "    fixedLegDC = ql.Thirty360(ql.Thirty360.BondBasis)\n",
    "    spread = 0.0\n",
    "    fixedSchedule = ql.Schedule(start,\n",
    "                                end, \n",
    "                                fixedLegTenor, \n",
    "                                index.fixingCalendar(), \n",
    "                                fixedLegBDC,\n",
    "                                fixedLegBDC, \n",
    "                                ql.DateGeneration.Backward,\n",
    "                                False)\n",
    "    floatSchedule = ql.Schedule(start,\n",
    "                                end,\n",
    "                                index.tenor(),\n",
    "                                index.fixingCalendar(),\n",
    "                                index.businessDayConvention(),\n",
    "                                index.businessDayConvention(),\n",
    "                                ql.DateGeneration.Backward,\n",
    "                                False)\n",
    "    swap = ql.VanillaSwap(typ, \n",
    "                          nominal,\n",
    "                          fixedSchedule,\n",
    "                          fixedRate,\n",
    "                          fixedLegDC,\n",
    "                          floatSchedule,\n",
    "                          index,\n",
    "                          spread,\n",
    "                          index.dayCounter())\n",
    "    return swap, [index.fixingDate(x) for x in floatSchedule][:-1]"
   ]
  },
  {
   "cell_type": "code",
   "execution_count": 23,
   "id": "3e79cc9d",
   "metadata": {},
   "outputs": [],
   "source": [
    "daycount = ql.Actual365Fixed()\n",
    "calendar = ql.TARGET()\n",
    "\n",
    "# curva flat\n",
    "evaluation_date = today\n",
    "ql.Settings.instance().setEvaluationDate(evaluation_date)"
   ]
  },
  {
   "cell_type": "code",
   "execution_count": 24,
   "id": "654c9e74",
   "metadata": {},
   "outputs": [],
   "source": [
    "handleYieldTermStructure = ql.RelinkableYieldTermStructureHandle(estr_curve_c)\n",
    "t0_curve = ql.YieldTermStructureHandle(estr_curve_c)\n",
    "index = ql.Euribor6M(handleYieldTermStructure)"
   ]
  },
  {
   "cell_type": "code",
   "execution_count": 25,
   "id": "c4fafad1",
   "metadata": {},
   "outputs": [],
   "source": [
    "trade1 = makeSwap(evaluation_date + ql.Period(\"4d\"),\n",
    "                                  ql.Period(\"10Y\"),\n",
    "                                  100e6,\n",
    "                                  0.03,\n",
    "                                  index)\n",
    "swap = trade1[0]\n",
    "fixingDates = trade1[1]"
   ]
  },
  {
   "cell_type": "code",
   "execution_count": 26,
   "id": "c33deb3b",
   "metadata": {},
   "outputs": [
    {
     "name": "stdout",
     "output_type": "stream",
     "text": [
      "-880612.7637591772\n"
     ]
    }
   ],
   "source": [
    "engine = ql.DiscountingSwapEngine(handleYieldTermStructure)\n",
    "swap.setPricingEngine(engine)\n",
    "npv = swap.NPV()\n",
    "print(npv)"
   ]
  },
  {
   "cell_type": "code",
   "execution_count": 27,
   "id": "6ed7b4c3",
   "metadata": {},
   "outputs": [
    {
     "data": {
      "text/plain": [
       "0.028975650297369288"
      ]
     },
     "execution_count": 27,
     "metadata": {},
     "output_type": "execute_result"
    }
   ],
   "source": [
    "swap.fairRate()"
   ]
  },
  {
   "cell_type": "code",
   "execution_count": 28,
   "id": "ff7a7abf",
   "metadata": {},
   "outputs": [
    {
     "data": {
      "text/plain": [
       "-85967.98158847574"
      ]
     },
     "execution_count": 28,
     "metadata": {},
     "output_type": "execute_result"
    }
   ],
   "source": [
    "swap.fixedLegBPS()"
   ]
  },
  {
   "cell_type": "code",
   "execution_count": 29,
   "id": "7c888027",
   "metadata": {},
   "outputs": [
    {
     "data": {
      "text/plain": [
       "87227.57099185896"
      ]
     },
     "execution_count": 29,
     "metadata": {},
     "output_type": "execute_result"
    }
   ],
   "source": [
    "swap.floatingLegBPS()"
   ]
  }
 ],
 "metadata": {
  "kernelspec": {
   "display_name": "Python 3 (ipykernel)",
   "language": "python",
   "name": "python3"
  },
  "language_info": {
   "codemirror_mode": {
    "name": "ipython",
    "version": 3
   },
   "file_extension": ".py",
   "mimetype": "text/x-python",
   "name": "python",
   "nbconvert_exporter": "python",
   "pygments_lexer": "ipython3",
   "version": "3.10.7"
  }
 },
 "nbformat": 4,
 "nbformat_minor": 5
}
